{
  "nbformat": 4,
  "nbformat_minor": 0,
  "metadata": {
    "colab": {
      "name": "06MBIG - AG1 - a - Introducción al Clustering",
      "provenance": [],
      "collapsed_sections": [],
      "include_colab_link": true
    },
    "kernelspec": {
      "name": "python3",
      "display_name": "Python 3"
    }
  },
  "cells": [
    {
      "cell_type": "markdown",
      "metadata": {
        "id": "view-in-github",
        "colab_type": "text"
      },
      "source": [
        "<a href=\"https://colab.research.google.com/github/angelmg10/BigDataVIU/blob/master/06MBIG_AG1_a_Introducci%C3%B3n_al_Clustering.ipynb\" target=\"_parent\"><img src=\"https://colab.research.google.com/assets/colab-badge.svg\" alt=\"Open In Colab\"/></a>"
      ]
    },
    {
      "cell_type": "markdown",
      "metadata": {
        "id": "Ti5Wnz3cgkRD",
        "colab_type": "text"
      },
      "source": [
        "#  Introducción al Clustering"
      ]
    },
    {
      "cell_type": "markdown",
      "metadata": {
        "id": "3wbjJ1PrhsIJ",
        "colab_type": "text"
      },
      "source": [
        "Como problema de partida de ejemplo de como aplicar diferentes algoritmos de clustering vamos a utilizar unos datos del Producto Interior Bruto de los Estados de Estados Unidos en 2009. Los datos están en [Enlace](https://drive.google.com/open?id=1Rb_7eNacmktJM3RqETQmSLysXYjk5EDG)"
      ]
    },
    {
      "cell_type": "markdown",
      "metadata": {
        "id": "g45HwKwiuUvB",
        "colab_type": "text"
      },
      "source": [
        "# Preproceso Básico"
      ]
    },
    {
      "cell_type": "markdown",
      "metadata": {
        "id": "EqpW7cG5n4HB",
        "colab_type": "text"
      },
      "source": [
        "Antes de empezar cualquier análisis hay que asegurar que las librerías básicas y de uso general (numpy, pandas, etc.) están correctamente importadas. "
      ]
    },
    {
      "cell_type": "markdown",
      "metadata": {
        "id": "Gu5L38kVoJsN",
        "colab_type": "text"
      },
      "source": [
        "También asegurarse de que dentro del entorno están las librerías actualizadas lo cual puede ser imprescindible en algunos momentos, como en este caso sucede con la librería de visualización *seaborn*"
      ]
    },
    {
      "cell_type": "code",
      "metadata": {
        "id": "QmoGAR-EY0WF",
        "colab_type": "code",
        "outputId": "4736244d-2134-4447-b52e-b8c230cf35d3",
        "colab": {
          "base_uri": "https://localhost:8080/",
          "height": 238
        }
      },
      "source": [
        "!pip install seaborn --upgrade"
      ],
      "execution_count": 1,
      "outputs": [
        {
          "output_type": "stream",
          "text": [
            "Requirement already up-to-date: seaborn in /usr/local/lib/python3.6/dist-packages (0.10.0)\n",
            "Requirement already satisfied, skipping upgrade: scipy>=1.0.1 in /usr/local/lib/python3.6/dist-packages (from seaborn) (1.4.1)\n",
            "Requirement already satisfied, skipping upgrade: pandas>=0.22.0 in /usr/local/lib/python3.6/dist-packages (from seaborn) (0.25.3)\n",
            "Requirement already satisfied, skipping upgrade: matplotlib>=2.1.2 in /usr/local/lib/python3.6/dist-packages (from seaborn) (3.1.3)\n",
            "Requirement already satisfied, skipping upgrade: numpy>=1.13.3 in /usr/local/lib/python3.6/dist-packages (from seaborn) (1.17.5)\n",
            "Requirement already satisfied, skipping upgrade: python-dateutil>=2.6.1 in /usr/local/lib/python3.6/dist-packages (from pandas>=0.22.0->seaborn) (2.6.1)\n",
            "Requirement already satisfied, skipping upgrade: pytz>=2017.2 in /usr/local/lib/python3.6/dist-packages (from pandas>=0.22.0->seaborn) (2018.9)\n",
            "Requirement already satisfied, skipping upgrade: cycler>=0.10 in /usr/local/lib/python3.6/dist-packages (from matplotlib>=2.1.2->seaborn) (0.10.0)\n",
            "Requirement already satisfied, skipping upgrade: kiwisolver>=1.0.1 in /usr/local/lib/python3.6/dist-packages (from matplotlib>=2.1.2->seaborn) (1.1.0)\n",
            "Requirement already satisfied, skipping upgrade: pyparsing!=2.0.4,!=2.1.2,!=2.1.6,>=2.0.1 in /usr/local/lib/python3.6/dist-packages (from matplotlib>=2.1.2->seaborn) (2.4.6)\n",
            "Requirement already satisfied, skipping upgrade: six>=1.5 in /usr/local/lib/python3.6/dist-packages (from python-dateutil>=2.6.1->pandas>=0.22.0->seaborn) (1.12.0)\n",
            "Requirement already satisfied, skipping upgrade: setuptools in /usr/local/lib/python3.6/dist-packages (from kiwisolver>=1.0.1->matplotlib>=2.1.2->seaborn) (45.2.0)\n"
          ],
          "name": "stdout"
        }
      ]
    },
    {
      "cell_type": "code",
      "metadata": {
        "id": "QcqAjsMIKluO",
        "colab_type": "code",
        "colab": {}
      },
      "source": [
        "import matplotlib.pyplot as plt\n",
        "import numpy\n",
        "import itertools\n",
        "import seaborn as sns"
      ],
      "execution_count": 0,
      "outputs": []
    },
    {
      "cell_type": "markdown",
      "metadata": {
        "id": "fvxDPxPhheSW",
        "colab_type": "text"
      },
      "source": [
        "## Carga de Datos"
      ]
    },
    {
      "cell_type": "markdown",
      "metadata": {
        "id": "AygZwiVvg6WE",
        "colab_type": "text"
      },
      "source": [
        "En primer lugar cargamos los datos dentro del entorno con las funcionalidades que nos permite Google Colab"
      ]
    },
    {
      "cell_type": "code",
      "metadata": {
        "id": "RBK-O9mTgglR",
        "colab_type": "code",
        "outputId": "939b17d4-9368-4504-90c9-379b8953530b",
        "colab": {
          "resources": {
            "http://localhost:8080/nbextensions/google.colab/files.js": {
              "data": "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",
              "ok": true,
              "headers": [
                [
                  "content-type",
                  "application/javascript"
                ]
              ],
              "status": 200,
              "status_text": ""
            }
          },
          "base_uri": "https://localhost:8080/",
          "height": 91
        }
      },
      "source": [
        "# 0.1 load data from file\n",
        "from google.colab import files\n",
        "\n",
        "uploaded = files.upload()\n",
        "\n",
        "for fn in uploaded.keys():\n",
        "  print('User uploaded file \"{name}\" with length {length} bytes'.format(\n",
        "      name=fn, length=len(uploaded[fn])))"
      ],
      "execution_count": 4,
      "outputs": [
        {
          "output_type": "display_data",
          "data": {
            "text/html": [
              "\n",
              "     <input type=\"file\" id=\"files-35471f2c-96c9-4fcf-b13a-d09f19c13f87\" name=\"files[]\" multiple disabled />\n",
              "     <output id=\"result-35471f2c-96c9-4fcf-b13a-d09f19c13f87\">\n",
              "      Upload widget is only available when the cell has been executed in the\n",
              "      current browser session. Please rerun this cell to enable.\n",
              "      </output>\n",
              "      <script src=\"/nbextensions/google.colab/files.js\"></script> "
            ],
            "text/plain": [
              "<IPython.core.display.HTML object>"
            ]
          },
          "metadata": {
            "tags": []
          }
        },
        {
          "output_type": "stream",
          "text": [
            "Saving dengue_features_train.csv to dengue_features_train.csv\n",
            "User uploaded file \"dengue_features_train.csv\" with length 287139 bytes\n"
          ],
          "name": "stdout"
        }
      ]
    },
    {
      "cell_type": "markdown",
      "metadata": {
        "id": "7jvD1yDjhASV",
        "colab_type": "text"
      },
      "source": [
        "Posteriormente utilizamos la librería [Pandas](https://pandas.pydata.org/) con el fin de poder manejar los datos en una estructura denominada DataFrame\n"
      ]
    },
    {
      "cell_type": "code",
      "metadata": {
        "id": "4QQ6WZ3qhJLw",
        "colab_type": "code",
        "colab": {}
      },
      "source": [
        "# 0.2 load data in DataFrame\n",
        "import pandas as pd\n",
        "import io\n",
        "df = pd.read_csv(io.StringIO(uploaded[fn].decode('utf-8')), index_col='city')\n",
        "\n",
        "\n"
      ],
      "execution_count": 0,
      "outputs": []
    },
    {
      "cell_type": "code",
      "metadata": {
        "id": "AmVjogvpw03t",
        "colab_type": "code",
        "outputId": "30fb8cf6-2b67-4152-d301-7264ec9b545b",
        "colab": {
          "base_uri": "https://localhost:8080/",
          "height": 245
        }
      },
      "source": [
        "df.head()"
      ],
      "execution_count": 8,
      "outputs": [
        {
          "output_type": "execute_result",
          "data": {
            "text/html": [
              "<div>\n",
              "<style scoped>\n",
              "    .dataframe tbody tr th:only-of-type {\n",
              "        vertical-align: middle;\n",
              "    }\n",
              "\n",
              "    .dataframe tbody tr th {\n",
              "        vertical-align: top;\n",
              "    }\n",
              "\n",
              "    .dataframe thead th {\n",
              "        text-align: right;\n",
              "    }\n",
              "</style>\n",
              "<table border=\"1\" class=\"dataframe\">\n",
              "  <thead>\n",
              "    <tr style=\"text-align: right;\">\n",
              "      <th></th>\n",
              "      <th>year</th>\n",
              "      <th>weekofyear</th>\n",
              "      <th>week_start_date</th>\n",
              "      <th>ndvi_ne</th>\n",
              "      <th>ndvi_nw</th>\n",
              "      <th>ndvi_se</th>\n",
              "      <th>ndvi_sw</th>\n",
              "      <th>precipitation_amt_mm</th>\n",
              "      <th>reanalysis_air_temp_k</th>\n",
              "      <th>reanalysis_avg_temp_k</th>\n",
              "      <th>reanalysis_dew_point_temp_k</th>\n",
              "      <th>reanalysis_max_air_temp_k</th>\n",
              "      <th>reanalysis_min_air_temp_k</th>\n",
              "      <th>reanalysis_precip_amt_kg_per_m2</th>\n",
              "      <th>reanalysis_relative_humidity_percent</th>\n",
              "      <th>reanalysis_sat_precip_amt_mm</th>\n",
              "      <th>reanalysis_specific_humidity_g_per_kg</th>\n",
              "      <th>reanalysis_tdtr_k</th>\n",
              "      <th>station_avg_temp_c</th>\n",
              "      <th>station_diur_temp_rng_c</th>\n",
              "      <th>station_max_temp_c</th>\n",
              "      <th>station_min_temp_c</th>\n",
              "      <th>station_precip_mm</th>\n",
              "    </tr>\n",
              "    <tr>\n",
              "      <th>city</th>\n",
              "      <th></th>\n",
              "      <th></th>\n",
              "      <th></th>\n",
              "      <th></th>\n",
              "      <th></th>\n",
              "      <th></th>\n",
              "      <th></th>\n",
              "      <th></th>\n",
              "      <th></th>\n",
              "      <th></th>\n",
              "      <th></th>\n",
              "      <th></th>\n",
              "      <th></th>\n",
              "      <th></th>\n",
              "      <th></th>\n",
              "      <th></th>\n",
              "      <th></th>\n",
              "      <th></th>\n",
              "      <th></th>\n",
              "      <th></th>\n",
              "      <th></th>\n",
              "      <th></th>\n",
              "      <th></th>\n",
              "    </tr>\n",
              "  </thead>\n",
              "  <tbody>\n",
              "    <tr>\n",
              "      <th>sj</th>\n",
              "      <td>1990</td>\n",
              "      <td>18</td>\n",
              "      <td>1990-04-30</td>\n",
              "      <td>0.122600</td>\n",
              "      <td>0.103725</td>\n",
              "      <td>0.198483</td>\n",
              "      <td>0.177617</td>\n",
              "      <td>12.42</td>\n",
              "      <td>297.572857</td>\n",
              "      <td>297.742857</td>\n",
              "      <td>292.414286</td>\n",
              "      <td>299.8</td>\n",
              "      <td>295.9</td>\n",
              "      <td>32.00</td>\n",
              "      <td>73.365714</td>\n",
              "      <td>12.42</td>\n",
              "      <td>14.012857</td>\n",
              "      <td>2.628571</td>\n",
              "      <td>25.442857</td>\n",
              "      <td>6.900000</td>\n",
              "      <td>29.4</td>\n",
              "      <td>20.0</td>\n",
              "      <td>16.0</td>\n",
              "    </tr>\n",
              "    <tr>\n",
              "      <th>sj</th>\n",
              "      <td>1990</td>\n",
              "      <td>19</td>\n",
              "      <td>1990-05-07</td>\n",
              "      <td>0.169900</td>\n",
              "      <td>0.142175</td>\n",
              "      <td>0.162357</td>\n",
              "      <td>0.155486</td>\n",
              "      <td>22.82</td>\n",
              "      <td>298.211429</td>\n",
              "      <td>298.442857</td>\n",
              "      <td>293.951429</td>\n",
              "      <td>300.9</td>\n",
              "      <td>296.4</td>\n",
              "      <td>17.94</td>\n",
              "      <td>77.368571</td>\n",
              "      <td>22.82</td>\n",
              "      <td>15.372857</td>\n",
              "      <td>2.371429</td>\n",
              "      <td>26.714286</td>\n",
              "      <td>6.371429</td>\n",
              "      <td>31.7</td>\n",
              "      <td>22.2</td>\n",
              "      <td>8.6</td>\n",
              "    </tr>\n",
              "    <tr>\n",
              "      <th>sj</th>\n",
              "      <td>1990</td>\n",
              "      <td>20</td>\n",
              "      <td>1990-05-14</td>\n",
              "      <td>0.032250</td>\n",
              "      <td>0.172967</td>\n",
              "      <td>0.157200</td>\n",
              "      <td>0.170843</td>\n",
              "      <td>34.54</td>\n",
              "      <td>298.781429</td>\n",
              "      <td>298.878571</td>\n",
              "      <td>295.434286</td>\n",
              "      <td>300.5</td>\n",
              "      <td>297.3</td>\n",
              "      <td>26.10</td>\n",
              "      <td>82.052857</td>\n",
              "      <td>34.54</td>\n",
              "      <td>16.848571</td>\n",
              "      <td>2.300000</td>\n",
              "      <td>26.714286</td>\n",
              "      <td>6.485714</td>\n",
              "      <td>32.2</td>\n",
              "      <td>22.8</td>\n",
              "      <td>41.4</td>\n",
              "    </tr>\n",
              "    <tr>\n",
              "      <th>sj</th>\n",
              "      <td>1990</td>\n",
              "      <td>21</td>\n",
              "      <td>1990-05-21</td>\n",
              "      <td>0.128633</td>\n",
              "      <td>0.245067</td>\n",
              "      <td>0.227557</td>\n",
              "      <td>0.235886</td>\n",
              "      <td>15.36</td>\n",
              "      <td>298.987143</td>\n",
              "      <td>299.228571</td>\n",
              "      <td>295.310000</td>\n",
              "      <td>301.4</td>\n",
              "      <td>297.0</td>\n",
              "      <td>13.90</td>\n",
              "      <td>80.337143</td>\n",
              "      <td>15.36</td>\n",
              "      <td>16.672857</td>\n",
              "      <td>2.428571</td>\n",
              "      <td>27.471429</td>\n",
              "      <td>6.771429</td>\n",
              "      <td>33.3</td>\n",
              "      <td>23.3</td>\n",
              "      <td>4.0</td>\n",
              "    </tr>\n",
              "    <tr>\n",
              "      <th>sj</th>\n",
              "      <td>1990</td>\n",
              "      <td>22</td>\n",
              "      <td>1990-05-28</td>\n",
              "      <td>0.196200</td>\n",
              "      <td>0.262200</td>\n",
              "      <td>0.251200</td>\n",
              "      <td>0.247340</td>\n",
              "      <td>7.52</td>\n",
              "      <td>299.518571</td>\n",
              "      <td>299.664286</td>\n",
              "      <td>295.821429</td>\n",
              "      <td>301.9</td>\n",
              "      <td>297.5</td>\n",
              "      <td>12.20</td>\n",
              "      <td>80.460000</td>\n",
              "      <td>7.52</td>\n",
              "      <td>17.210000</td>\n",
              "      <td>3.014286</td>\n",
              "      <td>28.942857</td>\n",
              "      <td>9.371429</td>\n",
              "      <td>35.0</td>\n",
              "      <td>23.9</td>\n",
              "      <td>5.8</td>\n",
              "    </tr>\n",
              "  </tbody>\n",
              "</table>\n",
              "</div>"
            ],
            "text/plain": [
              "      year  weekofyear  ... station_min_temp_c  station_precip_mm\n",
              "city                    ...                                      \n",
              "sj    1990          18  ...               20.0               16.0\n",
              "sj    1990          19  ...               22.2                8.6\n",
              "sj    1990          20  ...               22.8               41.4\n",
              "sj    1990          21  ...               23.3                4.0\n",
              "sj    1990          22  ...               23.9                5.8\n",
              "\n",
              "[5 rows x 23 columns]"
            ]
          },
          "metadata": {
            "tags": []
          },
          "execution_count": 8
        }
      ]
    },
    {
      "cell_type": "code",
      "metadata": {
        "id": "qQPSzBssuy8c",
        "colab_type": "code",
        "outputId": "63144c8b-4818-41f5-ce78-c01b48a7179d",
        "colab": {
          "base_uri": "https://localhost:8080/",
          "height": 34
        }
      },
      "source": [
        "df.shape"
      ],
      "execution_count": 0,
      "outputs": [
        {
          "output_type": "execute_result",
          "data": {
            "text/plain": [
              "(51, 17)"
            ]
          },
          "metadata": {
            "tags": []
          },
          "execution_count": 6
        }
      ]
    },
    {
      "cell_type": "markdown",
      "metadata": {
        "id": "tshbXAz75bNJ",
        "colab_type": "text"
      },
      "source": [
        "df.drop('week_start_date')\n"
      ]
    },
    {
      "cell_type": "code",
      "metadata": {
        "id": "vrKXYz0S51Fi",
        "colab_type": "code",
        "colab": {}
      },
      "source": [
        "df1=df.drop('week_start_date', axis=1)"
      ],
      "execution_count": 0,
      "outputs": []
    },
    {
      "cell_type": "markdown",
      "metadata": {
        "id": "2IVR7NZrh6Qe",
        "colab_type": "text"
      },
      "source": [
        "Estos datos contienen para cada uno de los estados (*State*) las diferentes cantidades en producto interior bruto dentro de categorías que denominaríamos de nivel 2 de agregación, es decir, son una desagragción de niveles superiores. De esta forma encontramos datos como el PIB de Agricultura, Minería, Construcción, Comercio, etc. "
      ]
    },
    {
      "cell_type": "markdown",
      "metadata": {
        "id": "dLHVkSQYiaCE",
        "colab_type": "text"
      },
      "source": [
        "Una vez que contamos con el DataFrame de Pandas podríamos analizar qué características necesitamos y cuales deberíamos excluir. En este caso nos vamos a quedar con todas, aunque no todas sean significativas. "
      ]
    },
    {
      "cell_type": "code",
      "metadata": {
        "id": "-euIWkPTvBHI",
        "colab_type": "code",
        "outputId": "60cb5f7d-cd94-4acb-a08a-e8060f3f1561",
        "colab": {
          "base_uri": "https://localhost:8080/",
          "height": 403
        }
      },
      "source": [
        "df1.describe()\n",
        "df1.fillna(method='ffill',inplace=True)\n",
        "pd.isnull(df1).any()"
      ],
      "execution_count": 22,
      "outputs": [
        {
          "output_type": "execute_result",
          "data": {
            "text/plain": [
              "year                                     False\n",
              "weekofyear                               False\n",
              "ndvi_ne                                  False\n",
              "ndvi_nw                                  False\n",
              "ndvi_se                                  False\n",
              "ndvi_sw                                  False\n",
              "precipitation_amt_mm                     False\n",
              "reanalysis_air_temp_k                    False\n",
              "reanalysis_avg_temp_k                    False\n",
              "reanalysis_dew_point_temp_k              False\n",
              "reanalysis_max_air_temp_k                False\n",
              "reanalysis_min_air_temp_k                False\n",
              "reanalysis_precip_amt_kg_per_m2          False\n",
              "reanalysis_relative_humidity_percent     False\n",
              "reanalysis_sat_precip_amt_mm             False\n",
              "reanalysis_specific_humidity_g_per_kg    False\n",
              "reanalysis_tdtr_k                        False\n",
              "station_avg_temp_c                       False\n",
              "station_diur_temp_rng_c                  False\n",
              "station_max_temp_c                       False\n",
              "station_min_temp_c                       False\n",
              "station_precip_mm                        False\n",
              "dtype: bool"
            ]
          },
          "metadata": {
            "tags": []
          },
          "execution_count": 22
        }
      ]
    },
    {
      "cell_type": "markdown",
      "metadata": {
        "id": "zKcv9pU2jn7f",
        "colab_type": "text"
      },
      "source": [
        "## Transformaciones previas\n",
        "\n",
        "Como consideración previa necesitamos transformar los datos a una misma escala, por ejemplo [0,1]. Esto es así porque diferentes items de nuestras características pueden tener ordenes de dimensión diferentes. Este proceso no siempre es necesario sobre todo si nos encontramos con variables que ya están en esa esa escala. \n",
        "\n",
        "En este caso vamos a optar por utilizar la operación [MinMaxScaler](http://scikit-learn.org/stable/modules/generated/sklearn.preprocessing.MinMaxScaler.html), que pretende transformar a una escala con mínimo = 0 y máximo = 1. Esto puede generar cierta distorsión en los datos pero que puede ser conveniente para conseguir mejores resultados de clustering.  Otras opciones para reducir esta distorsión sería utilizar [MaxAbsScaler](http://scikit-learn.org/stable/modules/generated/sklearn.preprocessing.MaxAbsScaler.html#sklearn.preprocessing.MaxAbsScaler)"
      ]
    },
    {
      "cell_type": "code",
      "metadata": {
        "id": "EckMdIGeknVF",
        "colab_type": "code",
        "colab": {
          "base_uri": "https://localhost:8080/",
          "height": 235
        },
        "outputId": "d94a8624-74f5-43a2-be02-37b01a495954"
      },
      "source": [
        "from sklearn import preprocessing \n",
        "min_max_scaler = preprocessing.MinMaxScaler()\n",
        "datanorm = min_max_scaler.fit_transform(df1)\n",
        "datanorm\n"
      ],
      "execution_count": 23,
      "outputs": [
        {
          "output_type": "execute_result",
          "data": {
            "text/plain": [
              "array([[0.        , 0.32692308, 0.57822643, ..., 0.17419355, 0.48623853,\n",
              "        0.02944966],\n",
              "       [0.        , 0.34615385, 0.62994263, ..., 0.32258065, 0.68807339,\n",
              "        0.01582919],\n",
              "       [0.        , 0.36538462, 0.47944084, ..., 0.35483871, 0.74311927,\n",
              "        0.07620099],\n",
              "       ...,\n",
              "       [1.        , 0.42307692, 0.71430355, ..., 0.35483871, 0.41284404,\n",
              "        0.01362047],\n",
              "       [1.        , 0.44230769, 0.80927023, ..., 0.29032258, 0.57798165,\n",
              "        0.02944966],\n",
              "       [1.        , 0.46153846, 0.77020581, ..., 0.4516129 , 0.68807339,\n",
              "        0.03754832]])"
            ]
          },
          "metadata": {
            "tags": []
          },
          "execution_count": 23
        }
      ]
    },
    {
      "cell_type": "markdown",
      "metadata": {
        "id": "wiREP_-RjP2Z",
        "colab_type": "text"
      },
      "source": [
        "# Análisis de Componentes Principales\n",
        "\n",
        "El análisis de componentes principales (en español ACP, en inglés, PCA) es una técnica utilizada para reducir la dimensionalidad de un conjunto de datos. Intuitivamente la técnica sirve para hallar las causas de la variabilidad de un conjunto de datos y ordenarlas por importancia. Técnicamente, PCA busca la proyección según la cual los datos queden mejor representados en términos de mínimos cuadrados. PCA se emplea sobre todo en análisis exploratorio de datos y para construir modelos predictivos. "
      ]
    },
    {
      "cell_type": "markdown",
      "metadata": {
        "id": "TtuF5Qsau0-H",
        "colab_type": "text"
      },
      "source": [
        "PCA comporta el cálculo de la descomposición en autovalores de la matriz de covarianza, normalmente tras centrar los datos en la media de cada atributo.\n",
        "Para ello utilizaremos el procedimiento [StandardScaler](http://scikit-learn.org/stable/modules/generated/sklearn.preprocessing.StandardScaler.html#sklearn.preprocessing.StandardScaler) de scikitlearn"
      ]
    },
    {
      "cell_type": "code",
      "metadata": {
        "id": "O7L2bLfjuz-k",
        "colab_type": "code",
        "colab": {
          "base_uri": "https://localhost:8080/",
          "height": 235
        },
        "outputId": "802c5ba6-13dd-48c0-cb95-662f20114528"
      },
      "source": [
        "from sklearn import preprocessing \n",
        "scaler = preprocessing.StandardScaler()\n",
        "states = scaler.fit_transform(df1)\n",
        "states"
      ],
      "execution_count": 24,
      "outputs": [
        {
          "output_type": "execute_result",
          "data": {
            "text/plain": [
              "array([[-2.04044804, -0.56635649, -0.06261869, ..., -1.55264768,\n",
              "        -1.33870766, -0.48987568],\n",
              "       [-2.04044804, -0.49975322,  0.27894877, ..., -0.37923554,\n",
              "         0.06383973, -0.64616845],\n",
              "       [-2.04044804, -0.43314995, -0.71506308, ..., -0.12414594,\n",
              "         0.44635265,  0.04658872],\n",
              "       ...,\n",
              "       [ 1.65883268, -0.23334015,  0.83612328, ..., -0.12414594,\n",
              "        -1.8487249 , -0.67151323],\n",
              "       [ 1.65883268, -0.16673689,  1.46334512, ..., -0.63432513,\n",
              "        -0.70118612, -0.48987568],\n",
              "       [ 1.65883268, -0.10013362,  1.20533821, ...,  0.64112285,\n",
              "         0.06383973, -0.39694484]])"
            ]
          },
          "metadata": {
            "tags": []
          },
          "execution_count": 24
        }
      ]
    },
    {
      "cell_type": "markdown",
      "metadata": {
        "id": "b2H8F9WCu_8J",
        "colab_type": "text"
      },
      "source": [
        "Una de las ventajas del PCA para reducir la dimensionalidad de un grupo de datos, es que retiene aquellas características del conjunto de datos que contribuyen más a su varianza, manteniendo un orden de bajo nivel de los componentes principales e ignorando los de alto nivel. \n",
        "\n",
        "El objetivo es que esos componentes de bajo orden a veces contienen el aspecto “más importante” de esa información \n",
        "\n",
        "En este caso y como nuestro propósito principal es la visualización utilizaremos únicamente **dos componentes principales**"
      ]
    },
    {
      "cell_type": "code",
      "metadata": {
        "id": "0-1RBk2evCk1",
        "colab_type": "code",
        "outputId": "e6b9f6cd-1732-44f4-d5c8-9fda99b92a9f",
        "colab": {
          "base_uri": "https://localhost:8080/",
          "height": 134
        }
      },
      "source": [
        "#2. PCA Estimation\n",
        "from sklearn.decomposition import PCA\n",
        "estimator = PCA (n_components = 3)\n",
        "X_pca = estimator.fit_transform(states)\n",
        "X_pca\n"
      ],
      "execution_count": 25,
      "outputs": [
        {
          "output_type": "execute_result",
          "data": {
            "text/plain": [
              "array([[-3.09498882,  3.24809287, -0.03567552],\n",
              "       [-2.29820963,  1.04616416, -0.27538227],\n",
              "       [-1.8773604 , -0.40228925,  0.41593307],\n",
              "       ...,\n",
              "       [ 1.66413316,  2.84789919,  1.63547878],\n",
              "       [ 2.80930101,  2.8359296 ,  1.2492391 ],\n",
              "       [ 3.69919817,  0.63430942, -0.70888543]])"
            ]
          },
          "metadata": {
            "tags": []
          },
          "execution_count": 25
        }
      ]
    },
    {
      "cell_type": "markdown",
      "metadata": {
        "id": "wvTWij-qvJMY",
        "colab_type": "text"
      },
      "source": [
        "A continuación, se muestra el porcentaje de varianza explicado por cada uno de los componentes seleccionados.\n",
        "\n",
        "En PCA cada componente principal tiene una cierta desviación, que en conjunto suman hasta el 100% de la desviación total.\n",
        "\n",
        "Para cada componente principal, un cociente de su varianza con respecto a la varianza total se denomina \"proporción de varianza explicada\"."
      ]
    },
    {
      "cell_type": "code",
      "metadata": {
        "id": "1r4h8xT4vIkn",
        "colab_type": "code",
        "outputId": "2adda64f-4a79-4550-906d-82f8576a9a9a",
        "colab": {
          "base_uri": "https://localhost:8080/",
          "height": 34
        }
      },
      "source": [
        "print(estimator.explained_variance_ratio_) "
      ],
      "execution_count": 26,
      "outputs": [
        {
          "output_type": "stream",
          "text": [
            "[0.33070815 0.24963251 0.12402419]\n"
          ],
          "name": "stdout"
        }
      ]
    },
    {
      "cell_type": "code",
      "metadata": {
        "id": "gjWHcHZtzAoq",
        "colab_type": "code",
        "outputId": "a78e93b1-474b-4e53-ea2d-d3a17fd33c90",
        "colab": {
          "base_uri": "https://localhost:8080/",
          "height": 698
        }
      },
      "source": [
        "pd.DataFrame(numpy.matrix.transpose(estimator.components_), columns=['PC-1', 'PC-2', 'PC-3'], index=df1.columns)"
      ],
      "execution_count": 28,
      "outputs": [
        {
          "output_type": "execute_result",
          "data": {
            "text/html": [
              "<div>\n",
              "<style scoped>\n",
              "    .dataframe tbody tr th:only-of-type {\n",
              "        vertical-align: middle;\n",
              "    }\n",
              "\n",
              "    .dataframe tbody tr th {\n",
              "        vertical-align: top;\n",
              "    }\n",
              "\n",
              "    .dataframe thead th {\n",
              "        text-align: right;\n",
              "    }\n",
              "</style>\n",
              "<table border=\"1\" class=\"dataframe\">\n",
              "  <thead>\n",
              "    <tr style=\"text-align: right;\">\n",
              "      <th></th>\n",
              "      <th>PC-1</th>\n",
              "      <th>PC-2</th>\n",
              "      <th>PC-3</th>\n",
              "    </tr>\n",
              "  </thead>\n",
              "  <tbody>\n",
              "    <tr>\n",
              "      <th>year</th>\n",
              "      <td>0.175831</td>\n",
              "      <td>0.037470</td>\n",
              "      <td>0.036475</td>\n",
              "    </tr>\n",
              "    <tr>\n",
              "      <th>weekofyear</th>\n",
              "      <td>0.059402</td>\n",
              "      <td>-0.194973</td>\n",
              "      <td>-0.132977</td>\n",
              "    </tr>\n",
              "    <tr>\n",
              "      <th>ndvi_ne</th>\n",
              "      <td>0.286336</td>\n",
              "      <td>0.112888</td>\n",
              "      <td>-0.075741</td>\n",
              "    </tr>\n",
              "    <tr>\n",
              "      <th>ndvi_nw</th>\n",
              "      <td>0.281581</td>\n",
              "      <td>0.106497</td>\n",
              "      <td>-0.080420</td>\n",
              "    </tr>\n",
              "    <tr>\n",
              "      <th>ndvi_se</th>\n",
              "      <td>0.217898</td>\n",
              "      <td>0.096569</td>\n",
              "      <td>-0.162827</td>\n",
              "    </tr>\n",
              "    <tr>\n",
              "      <th>ndvi_sw</th>\n",
              "      <td>0.251905</td>\n",
              "      <td>0.106397</td>\n",
              "      <td>-0.140610</td>\n",
              "    </tr>\n",
              "    <tr>\n",
              "      <th>precipitation_amt_mm</th>\n",
              "      <td>0.183932</td>\n",
              "      <td>-0.128717</td>\n",
              "      <td>0.374670</td>\n",
              "    </tr>\n",
              "    <tr>\n",
              "      <th>reanalysis_air_temp_k</th>\n",
              "      <td>-0.071105</td>\n",
              "      <td>-0.358472</td>\n",
              "      <td>-0.249023</td>\n",
              "    </tr>\n",
              "    <tr>\n",
              "      <th>reanalysis_avg_temp_k</th>\n",
              "      <td>0.072656</td>\n",
              "      <td>-0.334727</td>\n",
              "      <td>-0.290847</td>\n",
              "    </tr>\n",
              "    <tr>\n",
              "      <th>reanalysis_dew_point_temp_k</th>\n",
              "      <td>0.135725</td>\n",
              "      <td>-0.363572</td>\n",
              "      <td>0.113205</td>\n",
              "    </tr>\n",
              "    <tr>\n",
              "      <th>reanalysis_max_air_temp_k</th>\n",
              "      <td>0.327453</td>\n",
              "      <td>-0.012431</td>\n",
              "      <td>-0.181637</td>\n",
              "    </tr>\n",
              "    <tr>\n",
              "      <th>reanalysis_min_air_temp_k</th>\n",
              "      <td>-0.238644</td>\n",
              "      <td>-0.294566</td>\n",
              "      <td>-0.015906</td>\n",
              "    </tr>\n",
              "    <tr>\n",
              "      <th>reanalysis_precip_amt_kg_per_m2</th>\n",
              "      <td>0.146896</td>\n",
              "      <td>-0.091671</td>\n",
              "      <td>0.353192</td>\n",
              "    </tr>\n",
              "    <tr>\n",
              "      <th>reanalysis_relative_humidity_percent</th>\n",
              "      <td>0.251324</td>\n",
              "      <td>-0.034157</td>\n",
              "      <td>0.325801</td>\n",
              "    </tr>\n",
              "    <tr>\n",
              "      <th>reanalysis_sat_precip_amt_mm</th>\n",
              "      <td>0.183932</td>\n",
              "      <td>-0.128717</td>\n",
              "      <td>0.374670</td>\n",
              "    </tr>\n",
              "    <tr>\n",
              "      <th>reanalysis_specific_humidity_g_per_kg</th>\n",
              "      <td>0.152459</td>\n",
              "      <td>-0.355710</td>\n",
              "      <td>0.112056</td>\n",
              "    </tr>\n",
              "    <tr>\n",
              "      <th>reanalysis_tdtr_k</th>\n",
              "      <td>0.311660</td>\n",
              "      <td>0.124658</td>\n",
              "      <td>-0.161841</td>\n",
              "    </tr>\n",
              "    <tr>\n",
              "      <th>station_avg_temp_c</th>\n",
              "      <td>0.161571</td>\n",
              "      <td>-0.321268</td>\n",
              "      <td>-0.176311</td>\n",
              "    </tr>\n",
              "    <tr>\n",
              "      <th>station_diur_temp_rng_c</th>\n",
              "      <td>0.307160</td>\n",
              "      <td>0.099939</td>\n",
              "      <td>-0.158156</td>\n",
              "    </tr>\n",
              "    <tr>\n",
              "      <th>station_max_temp_c</th>\n",
              "      <td>0.277763</td>\n",
              "      <td>-0.150684</td>\n",
              "      <td>-0.177342</td>\n",
              "    </tr>\n",
              "    <tr>\n",
              "      <th>station_min_temp_c</th>\n",
              "      <td>-0.077855</td>\n",
              "      <td>-0.367236</td>\n",
              "      <td>-0.022489</td>\n",
              "    </tr>\n",
              "    <tr>\n",
              "      <th>station_precip_mm</th>\n",
              "      <td>0.154804</td>\n",
              "      <td>-0.025561</td>\n",
              "      <td>0.302299</td>\n",
              "    </tr>\n",
              "  </tbody>\n",
              "</table>\n",
              "</div>"
            ],
            "text/plain": [
              "                                           PC-1      PC-2      PC-3\n",
              "year                                   0.175831  0.037470  0.036475\n",
              "weekofyear                             0.059402 -0.194973 -0.132977\n",
              "ndvi_ne                                0.286336  0.112888 -0.075741\n",
              "ndvi_nw                                0.281581  0.106497 -0.080420\n",
              "ndvi_se                                0.217898  0.096569 -0.162827\n",
              "ndvi_sw                                0.251905  0.106397 -0.140610\n",
              "precipitation_amt_mm                   0.183932 -0.128717  0.374670\n",
              "reanalysis_air_temp_k                 -0.071105 -0.358472 -0.249023\n",
              "reanalysis_avg_temp_k                  0.072656 -0.334727 -0.290847\n",
              "reanalysis_dew_point_temp_k            0.135725 -0.363572  0.113205\n",
              "reanalysis_max_air_temp_k              0.327453 -0.012431 -0.181637\n",
              "reanalysis_min_air_temp_k             -0.238644 -0.294566 -0.015906\n",
              "reanalysis_precip_amt_kg_per_m2        0.146896 -0.091671  0.353192\n",
              "reanalysis_relative_humidity_percent   0.251324 -0.034157  0.325801\n",
              "reanalysis_sat_precip_amt_mm           0.183932 -0.128717  0.374670\n",
              "reanalysis_specific_humidity_g_per_kg  0.152459 -0.355710  0.112056\n",
              "reanalysis_tdtr_k                      0.311660  0.124658 -0.161841\n",
              "station_avg_temp_c                     0.161571 -0.321268 -0.176311\n",
              "station_diur_temp_rng_c                0.307160  0.099939 -0.158156\n",
              "station_max_temp_c                     0.277763 -0.150684 -0.177342\n",
              "station_min_temp_c                    -0.077855 -0.367236 -0.022489\n",
              "station_precip_mm                      0.154804 -0.025561  0.302299"
            ]
          },
          "metadata": {
            "tags": []
          },
          "execution_count": 28
        }
      ]
    },
    {
      "cell_type": "markdown",
      "metadata": {
        "id": "dE4uYvpPvPtA",
        "colab_type": "text"
      },
      "source": [
        "Finalmente, PCA encuentra un nuevo sistema de coordenadas en el que cada punto tiene un nuevo valor (x,y). Los ejes no significan realmente nada físico; se eligen para dar a uno de ellos la mejor de las variaciones."
      ]
    },
    {
      "cell_type": "code",
      "metadata": {
        "id": "kKzf00B1PHUZ",
        "colab_type": "code",
        "outputId": "571d350a-084b-461a-aebc-836b851f57f4",
        "colab": {
          "base_uri": "https://localhost:8080/",
          "height": 265
        }
      },
      "source": [
        "fig, ax = plt.subplots()\n",
        "ax.scatter(X_pca[:,0], X_pca[:,1] ,s=50)\n",
        "\n",
        "# anotación \n",
        "#numbers = numpy.arange(len(X_pca)) # etiquetas numéricas\n",
        "for i in range(0,len(X_pca)):\n",
        "    ax.annotate(df.iloc[i,:].name[0:2], (X_pca[i,0], X_pca[i,1]))"
      ],
      "execution_count": 29,
      "outputs": [
        {
          "output_type": "display_data",
          "data": {
            "image/png": "[encoded data removed]",
            "text/plain": [
              "<Figure size 432x288 with 1 Axes>"
            ]
          },
          "metadata": {
            "tags": []
          }
        }
      ]
    },
    {
      "cell_type": "markdown",
      "metadata": {
        "id": "BxXseeWEjZ0w",
        "colab_type": "text"
      },
      "source": [
        "# Clustering Jerárquico\n",
        "\n",
        "\n",
        "Los algoritmos de clustering jerárquico se distinguen por generar como resultado una estructura de\n",
        "grupos organizada en forma de árbol jerárquico. Este árbol, denominado dendrograma es un fiel reflejo de como los clusters se relacionan unos con otros. Dentro de la estructura, el nodo superior o “raíz” del árbol engloba la totalidad de los elementos de la colección, mientras que\n",
        "los nodos “hoja” representan a los grupos de elementos con similitud máxima. Cada nivel intermedio\n",
        "puede ser visto como la combinación de dos agrupaciones del nivel más bajo, o bien, como una parte\n",
        "de la división de la agrupación de nivel más alto.\n",
        "\n"
      ]
    },
    {
      "cell_type": "markdown",
      "metadata": {
        "id": "Dhz61-y7k6Aw",
        "colab_type": "text"
      },
      "source": [
        "A continuación, ejecutemos un algoritmo de clustering jerárquico con el fin de observar como se pueden están organizados los elementos que están bajo estudio, en este caso los estados de Estados Unidos. \n",
        "\n",
        "En primer lugar vamos a calcular la matriz de similitud entre los diferentes elementos utilizando para ello la [distancia euclídea](https://scikit-learn.org/stable/modules/generated/sklearn.neighbors.DistanceMetric.html) y la visualizamos utilizando la librería seaborn y el [gráfico de calor](https://seaborn.pydata.org/generated/seaborn.heatmap.html)\n",
        "\n"
      ]
    },
    {
      "cell_type": "code",
      "metadata": {
        "id": "rV5zM54FlHo8",
        "colab_type": "code",
        "outputId": "b972fe5d-5a3d-4c68-f4bf-78db322716a8",
        "colab": {
          "base_uri": "https://localhost:8080/",
          "height": 272
        }
      },
      "source": [
        "#3. Hierarchical Clustering\n",
        "# 3.1. Compute the similarity matrix\n",
        "import sklearn.neighbors\n",
        "dist = sklearn.neighbors.DistanceMetric.get_metric('euclidean')\n",
        "matsim = dist.pairwise(datanorm)\n",
        "\n",
        "# 3.1.1 Visualization\n",
        "import seaborn as sns; sns.set()\n",
        "ax = sns.heatmap(matsim,vmin=0, vmax=1)\n",
        "\n"
      ],
      "execution_count": 0,
      "outputs": [
        {
          "output_type": "display_data",
          "data": {
            "image/png": "[encoded data removed]",
            "text/plain": [
              "<Figure size 432x288 with 2 Axes>"
            ]
          },
          "metadata": {
            "tags": []
          }
        }
      ]
    },
    {
      "cell_type": "markdown",
      "metadata": {
        "id": "LnknIOcZlYNx",
        "colab_type": "text"
      },
      "source": [
        "Una vez calculada la matriz de similitud pasamos a construir el dendrograma. Para ello hay que decidir que tipo de [distancia intercluster](https://docs.scipy.org/doc/scipy/reference/generated/scipy.cluster.hierarchy.linkage.html) utilizamos, lo cual dependerá del problema que tengamos que afrontar. En un extremo estará el enlace simple que permitirá manejar fácilmente elementos especiales (*outliers*) y clusters de muy diversa forma, pero que nos ofrecerá grupos poco balanceados. En el otro extremo el enlace completo nos ofrecerá agrupaciones más equlibradas pero que supondrán la división de grupos mayoritarios. De forma intermedia tendremos otros índices como Ward o Average \n",
        "para ver cómo se distribuyen los datos.\n"
      ]
    },
    {
      "cell_type": "code",
      "metadata": {
        "id": "5TEcUnawlKMW",
        "colab_type": "code",
        "outputId": "64902089-b1c6-4633-ed82-bbb2412c7e04",
        "colab": {
          "base_uri": "https://localhost:8080/",
          "height": 389
        }
      },
      "source": [
        "# 3.2. Building the Dendrogram\t\n",
        "from scipy import cluster\n",
        "clusters = cluster.hierarchy.linkage(matsim, method = 'ward')\n",
        "# http://docs.scipy.org/doc/scipy-0.14.0/reference/generated/scipy.cluster.hierarchy.dendrogram.html\n",
        "cluster.hierarchy.dendrogram(clusters, labels = df.index)\n",
        "\n",
        "# 3.2.1 Visualization\n",
        "f = plt.figure()\n",
        "plt.show()\n",
        "#f.savefig( \"test.png\")\n",
        "#files.download('test.png')\n"
      ],
      "execution_count": 0,
      "outputs": [
        {
          "output_type": "stream",
          "text": [
            "/usr/local/lib/python3.6/dist-packages/ipykernel_launcher.py:2: ClusterWarning: scipy.cluster: The symmetric non-negative hollow observation matrix looks suspiciously like an uncondensed distance matrix\n",
            "  \n"
          ],
          "name": "stderr"
        },
        {
          "output_type": "display_data",
          "data": {
            "image/png": "[encoded data removed]",
            "text/plain": [
              "<Figure size 432x288 with 1 Axes>"
            ]
          },
          "metadata": {
            "tags": []
          }
        },
        {
          "output_type": "display_data",
          "data": {
            "text/plain": [
              "<Figure size 432x288 with 0 Axes>"
            ]
          },
          "metadata": {
            "tags": []
          }
        }
      ]
    },
    {
      "cell_type": "markdown",
      "metadata": {
        "id": "vmx8QVuZpPiK",
        "colab_type": "text"
      },
      "source": [
        "Aunque aquí el corte más que lineal tendría que hacerse ad-hoc, es decir, a partir de un corte con más granularidad (más grupos) deberíamos entonces reagrupar clusters que sean muy similares entre sí.\n",
        "\n",
        "De todos modos vamos a cortar a un nivel lógico a pesar de darnos algunos valores atípicos (grupos de un solo elemento)\n",
        "\n",
        "Por ejemplo, un corte a nivel 5 con un enlace completo da lugar a 5 grupos, alguno de ellos con muy pocos elementos \n",
        "\n"
      ]
    },
    {
      "cell_type": "code",
      "metadata": {
        "id": "5E236j7Qpgpp",
        "colab_type": "code",
        "outputId": "eb04b1f2-33c7-43c3-e92f-e9218dde7c0d",
        "colab": {
          "base_uri": "https://localhost:8080/",
          "height": 68
        }
      },
      "source": [
        "cut = 10 # !!!! ad-hoc\n",
        "labels = cluster.hierarchy.fcluster(clusters, cut , criterion = 'distance')\n",
        "\n",
        "labels"
      ],
      "execution_count": 0,
      "outputs": [
        {
          "output_type": "execute_result",
          "data": {
            "text/plain": [
              "array([3, 3, 3, 3, 2, 3, 3, 3, 4, 4, 4, 3, 3, 4, 3, 3, 3, 3, 3, 3, 4, 4,\n",
              "       4, 3, 3, 3, 3, 3, 3, 3, 4, 3, 1, 4, 3, 4, 3, 3, 4, 3, 3, 3, 3, 1,\n",
              "       3, 3, 4, 4, 3, 3, 3], dtype=int32)"
            ]
          },
          "metadata": {
            "tags": []
          },
          "execution_count": 31
        }
      ]
    },
    {
      "cell_type": "markdown",
      "metadata": {
        "id": "ciVlTsBQpqui",
        "colab_type": "text"
      },
      "source": [
        "Una vez terminado el clustering podemos aplicar ciertas métricas de calidad del mismo como el [coeficiente Silohuette] (https://scikit-learn.org/stable/modules/generated/sklearn.metrics.silhouette_score.html)\n",
        "\n"
      ]
    },
    {
      "cell_type": "code",
      "metadata": {
        "id": "yJ8d5ngtpwwc",
        "colab_type": "code",
        "outputId": "6b49534d-4ed3-4f82-a4c4-8fd89ade3d7f",
        "colab": {
          "base_uri": "https://localhost:8080/",
          "height": 51
        }
      },
      "source": [
        "# tratamos el cluster -1 como cluster de outliers\n",
        "from sklearn import metrics\n",
        "n_clusters_ = len(set(labels)) - (1 if -1 in labels else 0)\n",
        "print('Estimated number of clusters: %d' % n_clusters_)\n",
        "print(\"Silhouette Coefficient: %0.3f\"\n",
        "      % metrics.silhouette_score(datanorm, labels))"
      ],
      "execution_count": 0,
      "outputs": [
        {
          "output_type": "stream",
          "text": [
            "Estimated number of clusters: 4\n",
            "Silhouette Coefficient: 0.492\n"
          ],
          "name": "stdout"
        }
      ]
    },
    {
      "cell_type": "markdown",
      "metadata": {
        "id": "qmfwH9AIqANm",
        "colab_type": "text"
      },
      "source": [
        "Y podríamos comenzar con la caracterízación de los grupos, en primer lugar visualizandolos utilizando la proyección PCA"
      ]
    },
    {
      "cell_type": "code",
      "metadata": {
        "id": "XNELd36JjsgQ",
        "colab_type": "code",
        "outputId": "ca38ad9e-7f5f-4faf-b65f-4587bc2c9f60",
        "colab": {
          "base_uri": "https://localhost:8080/",
          "height": 268
        }
      },
      "source": [
        "#plotting orginal points with color related to label\n",
        "fig, ax = plt.subplots()\n",
        "plt.scatter(X_pca[:,0], X_pca[:,1], c=labels,s=50)\n",
        "#for i in range(0,len(X_pca)):\n",
        "#    ax.annotate(df.iloc[i,:].name[0:3], (X_pca[i,0], X_pca[i,1]))\n",
        "plt.grid()\n",
        "plt.show()"
      ],
      "execution_count": 0,
      "outputs": [
        {
          "output_type": "display_data",
          "data": {
            "image/png": "[encoded data removed]",
            "text/plain": [
              "<Figure size 432x288 with 1 Axes>"
            ]
          },
          "metadata": {
            "tags": []
          }
        }
      ]
    },
    {
      "cell_type": "markdown",
      "metadata": {
        "id": "DrnHb_9_j5q0",
        "colab_type": "text"
      },
      "source": [
        "Y luego obteniendo estadísticos básicos que nos permitan interpretar que significa cada grupo"
      ]
    },
    {
      "cell_type": "code",
      "metadata": {
        "id": "vipV_MzOqFKA",
        "colab_type": "code",
        "outputId": "9ec8afb6-95b6-4b29-e3c8-8480122e9445",
        "colab": {
          "base_uri": "https://localhost:8080/",
          "height": 299
        }
      },
      "source": [
        "df['group'] = labels\n",
        "\n",
        "\n",
        "res = df[['Finance', 'Mining', 'Manufacturing', 'group']].groupby(('group')).mean()\n",
        "res.plot(kind='bar', legend=True)\n",
        "\n",
        "\n"
      ],
      "execution_count": 0,
      "outputs": [
        {
          "output_type": "execute_result",
          "data": {
            "text/plain": [
              "<matplotlib.axes._subplots.AxesSubplot at 0x7f810ba9d240>"
            ]
          },
          "metadata": {
            "tags": []
          },
          "execution_count": 34
        },
        {
          "output_type": "display_data",
          "data": {
            "image/png": "[encoded data removed]",
            "text/plain": [
              "<Figure size 432x288 with 1 Axes>"
            ]
          },
          "metadata": {
            "tags": []
          }
        }
      ]
    },
    {
      "cell_type": "markdown",
      "metadata": {
        "id": "1_f6T-vDjeUT",
        "colab_type": "text"
      },
      "source": [
        "Y podemos utilizar filtros para saber que estados pertenecen a cada grupo"
      ]
    },
    {
      "cell_type": "code",
      "metadata": {
        "id": "4VmTL2dTjATY",
        "colab_type": "code",
        "outputId": "f99078c8-38b2-478c-f31e-e52e36801d8c",
        "colab": {
          "base_uri": "https://localhost:8080/",
          "height": 1000
        }
      },
      "source": [
        "df[df['group'] == 3]"
      ],
      "execution_count": 0,
      "outputs": [
        {
          "output_type": "execute_result",
          "data": {
            "text/html": [
              "<div>\n",
              "<style scoped>\n",
              "    .dataframe tbody tr th:only-of-type {\n",
              "        vertical-align: middle;\n",
              "    }\n",
              "\n",
              "    .dataframe tbody tr th {\n",
              "        vertical-align: top;\n",
              "    }\n",
              "\n",
              "    .dataframe thead th {\n",
              "        text-align: right;\n",
              "    }\n",
              "</style>\n",
              "<table border=\"1\" class=\"dataframe\">\n",
              "  <thead>\n",
              "    <tr style=\"text-align: right;\">\n",
              "      <th></th>\n",
              "      <th>Agriculture</th>\n",
              "      <th>Mining</th>\n",
              "      <th>Utilities</th>\n",
              "      <th>Construction</th>\n",
              "      <th>Manufacturing</th>\n",
              "      <th>Wholesale trade</th>\n",
              "      <th>Retail</th>\n",
              "      <th>Transportation</th>\n",
              "      <th>Information</th>\n",
              "      <th>Finance</th>\n",
              "      <th>Buss. Services</th>\n",
              "      <th>Education</th>\n",
              "      <th>Arts</th>\n",
              "      <th>Oth Serv.</th>\n",
              "      <th>Fed. civ</th>\n",
              "      <th>Fed. military</th>\n",
              "      <th>State.1</th>\n",
              "      <th>group</th>\n",
              "    </tr>\n",
              "    <tr>\n",
              "      <th>State</th>\n",
              "      <th></th>\n",
              "      <th></th>\n",
              "      <th></th>\n",
              "      <th></th>\n",
              "      <th></th>\n",
              "      <th></th>\n",
              "      <th></th>\n",
              "      <th></th>\n",
              "      <th></th>\n",
              "      <th></th>\n",
              "      <th></th>\n",
              "      <th></th>\n",
              "      <th></th>\n",
              "      <th></th>\n",
              "      <th></th>\n",
              "      <th></th>\n",
              "      <th></th>\n",
              "      <th></th>\n",
              "    </tr>\n",
              "  </thead>\n",
              "  <tbody>\n",
              "    <tr>\n",
              "      <th>Alabama</th>\n",
              "      <td>2040</td>\n",
              "      <td>2982</td>\n",
              "      <td>4965</td>\n",
              "      <td>7866</td>\n",
              "      <td>25444</td>\n",
              "      <td>9712</td>\n",
              "      <td>12287</td>\n",
              "      <td>4471</td>\n",
              "      <td>4244</td>\n",
              "      <td>25185</td>\n",
              "      <td>16090</td>\n",
              "      <td>12957</td>\n",
              "      <td>4826</td>\n",
              "      <td>4694</td>\n",
              "      <td>7174</td>\n",
              "      <td>4367</td>\n",
              "      <td>19746</td>\n",
              "      <td>3</td>\n",
              "    </tr>\n",
              "    <tr>\n",
              "      <th>Alaska</th>\n",
              "      <td>305</td>\n",
              "      <td>14327</td>\n",
              "      <td>612</td>\n",
              "      <td>2143</td>\n",
              "      <td>1867</td>\n",
              "      <td>1026</td>\n",
              "      <td>1943</td>\n",
              "      <td>4510</td>\n",
              "      <td>948</td>\n",
              "      <td>5416</td>\n",
              "      <td>2884</td>\n",
              "      <td>2757</td>\n",
              "      <td>1273</td>\n",
              "      <td>737</td>\n",
              "      <td>1882</td>\n",
              "      <td>2398</td>\n",
              "      <td>4929</td>\n",
              "      <td>3</td>\n",
              "    </tr>\n",
              "    <tr>\n",
              "      <th>Arizona</th>\n",
              "      <td>1528</td>\n",
              "      <td>4687</td>\n",
              "      <td>5677</td>\n",
              "      <td>13167</td>\n",
              "      <td>20026</td>\n",
              "      <td>14283</td>\n",
              "      <td>18439</td>\n",
              "      <td>6859</td>\n",
              "      <td>6559</td>\n",
              "      <td>51282</td>\n",
              "      <td>27353</td>\n",
              "      <td>22549</td>\n",
              "      <td>10487</td>\n",
              "      <td>5231</td>\n",
              "      <td>6247</td>\n",
              "      <td>3833</td>\n",
              "      <td>25123</td>\n",
              "      <td>3</td>\n",
              "    </tr>\n",
              "    <tr>\n",
              "      <th>Arkansas</th>\n",
              "      <td>2537</td>\n",
              "      <td>2249</td>\n",
              "      <td>2467</td>\n",
              "      <td>4266</td>\n",
              "      <td>14010</td>\n",
              "      <td>7257</td>\n",
              "      <td>7070</td>\n",
              "      <td>4120</td>\n",
              "      <td>10864</td>\n",
              "      <td>14879</td>\n",
              "      <td>8641</td>\n",
              "      <td>8432</td>\n",
              "      <td>2797</td>\n",
              "      <td>2283</td>\n",
              "      <td>2326</td>\n",
              "      <td>1148</td>\n",
              "      <td>10494</td>\n",
              "      <td>3</td>\n",
              "    </tr>\n",
              "    <tr>\n",
              "      <th>Colorado</th>\n",
              "      <td>2112</td>\n",
              "      <td>11330</td>\n",
              "      <td>3152</td>\n",
              "      <td>11612</td>\n",
              "      <td>19429</td>\n",
              "      <td>13309</td>\n",
              "      <td>14140</td>\n",
              "      <td>6386</td>\n",
              "      <td>20171</td>\n",
              "      <td>45343</td>\n",
              "      <td>34342</td>\n",
              "      <td>17061</td>\n",
              "      <td>10598</td>\n",
              "      <td>5944</td>\n",
              "      <td>6900</td>\n",
              "      <td>4766</td>\n",
              "      <td>21580</td>\n",
              "      <td>3</td>\n",
              "    </tr>\n",
              "    <tr>\n",
              "      <th>Connecticut</th>\n",
              "      <td>314</td>\n",
              "      <td>113</td>\n",
              "      <td>3998</td>\n",
              "      <td>6989</td>\n",
              "      <td>27665</td>\n",
              "      <td>12795</td>\n",
              "      <td>11314</td>\n",
              "      <td>4123</td>\n",
              "      <td>12134</td>\n",
              "      <td>69118</td>\n",
              "      <td>25348</td>\n",
              "      <td>21758</td>\n",
              "      <td>5781</td>\n",
              "      <td>4473</td>\n",
              "      <td>2488</td>\n",
              "      <td>2928</td>\n",
              "      <td>18668</td>\n",
              "      <td>3</td>\n",
              "    </tr>\n",
              "    <tr>\n",
              "      <th>Delaware</th>\n",
              "      <td>276</td>\n",
              "      <td>1</td>\n",
              "      <td>868</td>\n",
              "      <td>1750</td>\n",
              "      <td>4732</td>\n",
              "      <td>2258</td>\n",
              "      <td>2423</td>\n",
              "      <td>752</td>\n",
              "      <td>1210</td>\n",
              "      <td>23162</td>\n",
              "      <td>5992</td>\n",
              "      <td>4075</td>\n",
              "      <td>1488</td>\n",
              "      <td>868</td>\n",
              "      <td>659</td>\n",
              "      <td>632</td>\n",
              "      <td>4945</td>\n",
              "      <td>3</td>\n",
              "    </tr>\n",
              "    <tr>\n",
              "      <th>Hawaii</th>\n",
              "      <td>441</td>\n",
              "      <td>108</td>\n",
              "      <td>1428</td>\n",
              "      <td>4088</td>\n",
              "      <td>1302</td>\n",
              "      <td>2044</td>\n",
              "      <td>4377</td>\n",
              "      <td>2542</td>\n",
              "      <td>1467</td>\n",
              "      <td>14840</td>\n",
              "      <td>5694</td>\n",
              "      <td>5006</td>\n",
              "      <td>5251</td>\n",
              "      <td>1561</td>\n",
              "      <td>3489</td>\n",
              "      <td>5232</td>\n",
              "      <td>6215</td>\n",
              "      <td>3</td>\n",
              "    </tr>\n",
              "    <tr>\n",
              "      <th>Idaho</th>\n",
              "      <td>2494</td>\n",
              "      <td>809</td>\n",
              "      <td>867</td>\n",
              "      <td>2729</td>\n",
              "      <td>6326</td>\n",
              "      <td>2962</td>\n",
              "      <td>4179</td>\n",
              "      <td>1494</td>\n",
              "      <td>1161</td>\n",
              "      <td>9854</td>\n",
              "      <td>5690</td>\n",
              "      <td>4422</td>\n",
              "      <td>1684</td>\n",
              "      <td>1149</td>\n",
              "      <td>1495</td>\n",
              "      <td>663</td>\n",
              "      <td>6086</td>\n",
              "      <td>3</td>\n",
              "    </tr>\n",
              "    <tr>\n",
              "      <th>Indiana</th>\n",
              "      <td>3647</td>\n",
              "      <td>1394</td>\n",
              "      <td>5431</td>\n",
              "      <td>10038</td>\n",
              "      <td>69476</td>\n",
              "      <td>14093</td>\n",
              "      <td>16117</td>\n",
              "      <td>8727</td>\n",
              "      <td>5658</td>\n",
              "      <td>40311</td>\n",
              "      <td>20053</td>\n",
              "      <td>23677</td>\n",
              "      <td>9257</td>\n",
              "      <td>6302</td>\n",
              "      <td>4049</td>\n",
              "      <td>1638</td>\n",
              "      <td>22560</td>\n",
              "      <td>3</td>\n",
              "    </tr>\n",
              "    <tr>\n",
              "      <th>Iowa</th>\n",
              "      <td>7234</td>\n",
              "      <td>321</td>\n",
              "      <td>2412</td>\n",
              "      <td>5287</td>\n",
              "      <td>25488</td>\n",
              "      <td>8177</td>\n",
              "      <td>8220</td>\n",
              "      <td>4730</td>\n",
              "      <td>4257</td>\n",
              "      <td>27333</td>\n",
              "      <td>8223</td>\n",
              "      <td>10755</td>\n",
              "      <td>3954</td>\n",
              "      <td>3002</td>\n",
              "      <td>1669</td>\n",
              "      <td>781</td>\n",
              "      <td>14668</td>\n",
              "      <td>3</td>\n",
              "    </tr>\n",
              "    <tr>\n",
              "      <th>Kansas</th>\n",
              "      <td>4069</td>\n",
              "      <td>1771</td>\n",
              "      <td>2470</td>\n",
              "      <td>4487</td>\n",
              "      <td>17489</td>\n",
              "      <td>8253</td>\n",
              "      <td>7995</td>\n",
              "      <td>4579</td>\n",
              "      <td>5624</td>\n",
              "      <td>17938</td>\n",
              "      <td>11023</td>\n",
              "      <td>10041</td>\n",
              "      <td>3393</td>\n",
              "      <td>2948</td>\n",
              "      <td>2358</td>\n",
              "      <td>3269</td>\n",
              "      <td>13064</td>\n",
              "      <td>3</td>\n",
              "    </tr>\n",
              "    <tr>\n",
              "      <th>Kentucky</th>\n",
              "      <td>2322</td>\n",
              "      <td>5664</td>\n",
              "      <td>2831</td>\n",
              "      <td>6406</td>\n",
              "      <td>24673</td>\n",
              "      <td>10354</td>\n",
              "      <td>9907</td>\n",
              "      <td>7091</td>\n",
              "      <td>4133</td>\n",
              "      <td>22415</td>\n",
              "      <td>12263</td>\n",
              "      <td>14135</td>\n",
              "      <td>5101</td>\n",
              "      <td>3491</td>\n",
              "      <td>4139</td>\n",
              "      <td>4622</td>\n",
              "      <td>16601</td>\n",
              "      <td>3</td>\n",
              "    </tr>\n",
              "    <tr>\n",
              "      <th>Louisiana</th>\n",
              "      <td>1769</td>\n",
              "      <td>20980</td>\n",
              "      <td>3798</td>\n",
              "      <td>11964</td>\n",
              "      <td>39321</td>\n",
              "      <td>9825</td>\n",
              "      <td>13174</td>\n",
              "      <td>8523</td>\n",
              "      <td>3911</td>\n",
              "      <td>26737</td>\n",
              "      <td>16546</td>\n",
              "      <td>14951</td>\n",
              "      <td>8100</td>\n",
              "      <td>4560</td>\n",
              "      <td>3467</td>\n",
              "      <td>2655</td>\n",
              "      <td>19579</td>\n",
              "      <td>3</td>\n",
              "    </tr>\n",
              "    <tr>\n",
              "      <th>Maine</th>\n",
              "      <td>646</td>\n",
              "      <td>9</td>\n",
              "      <td>895</td>\n",
              "      <td>2150</td>\n",
              "      <td>5668</td>\n",
              "      <td>2565</td>\n",
              "      <td>4282</td>\n",
              "      <td>1175</td>\n",
              "      <td>1147</td>\n",
              "      <td>9944</td>\n",
              "      <td>4569</td>\n",
              "      <td>6568</td>\n",
              "      <td>2055</td>\n",
              "      <td>1088</td>\n",
              "      <td>1571</td>\n",
              "      <td>757</td>\n",
              "      <td>5229</td>\n",
              "      <td>3</td>\n",
              "    </tr>\n",
              "    <tr>\n",
              "      <th>Minnesota</th>\n",
              "      <td>5120</td>\n",
              "      <td>953</td>\n",
              "      <td>4101</td>\n",
              "      <td>10562</td>\n",
              "      <td>35641</td>\n",
              "      <td>17805</td>\n",
              "      <td>14248</td>\n",
              "      <td>7090</td>\n",
              "      <td>10155</td>\n",
              "      <td>52870</td>\n",
              "      <td>30913</td>\n",
              "      <td>26245</td>\n",
              "      <td>8469</td>\n",
              "      <td>5881</td>\n",
              "      <td>3457</td>\n",
              "      <td>1698</td>\n",
              "      <td>24204</td>\n",
              "      <td>3</td>\n",
              "    </tr>\n",
              "    <tr>\n",
              "      <th>Mississippi</th>\n",
              "      <td>1922</td>\n",
              "      <td>1678</td>\n",
              "      <td>2546</td>\n",
              "      <td>5108</td>\n",
              "      <td>13603</td>\n",
              "      <td>4399</td>\n",
              "      <td>7373</td>\n",
              "      <td>3093</td>\n",
              "      <td>1836</td>\n",
              "      <td>12921</td>\n",
              "      <td>6212</td>\n",
              "      <td>7567</td>\n",
              "      <td>4204</td>\n",
              "      <td>2229</td>\n",
              "      <td>2925</td>\n",
              "      <td>2302</td>\n",
              "      <td>12245</td>\n",
              "      <td>3</td>\n",
              "    </tr>\n",
              "    <tr>\n",
              "      <th>Missouri</th>\n",
              "      <td>3106</td>\n",
              "      <td>1049</td>\n",
              "      <td>4222</td>\n",
              "      <td>10168</td>\n",
              "      <td>31395</td>\n",
              "      <td>15371</td>\n",
              "      <td>15651</td>\n",
              "      <td>8399</td>\n",
              "      <td>13355</td>\n",
              "      <td>46522</td>\n",
              "      <td>28727</td>\n",
              "      <td>23684</td>\n",
              "      <td>9794</td>\n",
              "      <td>6113</td>\n",
              "      <td>6380</td>\n",
              "      <td>2969</td>\n",
              "      <td>23833</td>\n",
              "      <td>3</td>\n",
              "    </tr>\n",
              "    <tr>\n",
              "      <th>Montana</th>\n",
              "      <td>1266</td>\n",
              "      <td>1880</td>\n",
              "      <td>980</td>\n",
              "      <td>2103</td>\n",
              "      <td>1738</td>\n",
              "      <td>1906</td>\n",
              "      <td>2410</td>\n",
              "      <td>1639</td>\n",
              "      <td>834</td>\n",
              "      <td>6370</td>\n",
              "      <td>2549</td>\n",
              "      <td>3494</td>\n",
              "      <td>1659</td>\n",
              "      <td>845</td>\n",
              "      <td>1413</td>\n",
              "      <td>533</td>\n",
              "      <td>4087</td>\n",
              "      <td>3</td>\n",
              "    </tr>\n",
              "    <tr>\n",
              "      <th>Nebraska</th>\n",
              "      <td>5273</td>\n",
              "      <td>159</td>\n",
              "      <td>1428</td>\n",
              "      <td>3906</td>\n",
              "      <td>10579</td>\n",
              "      <td>4916</td>\n",
              "      <td>5149</td>\n",
              "      <td>6595</td>\n",
              "      <td>2523</td>\n",
              "      <td>15255</td>\n",
              "      <td>8071</td>\n",
              "      <td>7211</td>\n",
              "      <td>2213</td>\n",
              "      <td>2013</td>\n",
              "      <td>1350</td>\n",
              "      <td>1010</td>\n",
              "      <td>9217</td>\n",
              "      <td>3</td>\n",
              "    </tr>\n",
              "    <tr>\n",
              "      <th>Nevada</th>\n",
              "      <td>264</td>\n",
              "      <td>4620</td>\n",
              "      <td>2318</td>\n",
              "      <td>8559</td>\n",
              "      <td>5377</td>\n",
              "      <td>4802</td>\n",
              "      <td>7774</td>\n",
              "      <td>4457</td>\n",
              "      <td>2497</td>\n",
              "      <td>24253</td>\n",
              "      <td>11992</td>\n",
              "      <td>7144</td>\n",
              "      <td>19128</td>\n",
              "      <td>2217</td>\n",
              "      <td>2064</td>\n",
              "      <td>1223</td>\n",
              "      <td>11411</td>\n",
              "      <td>3</td>\n",
              "    </tr>\n",
              "    <tr>\n",
              "      <th>New Hampshire</th>\n",
              "      <td>168</td>\n",
              "      <td>98</td>\n",
              "      <td>1232</td>\n",
              "      <td>2166</td>\n",
              "      <td>6937</td>\n",
              "      <td>3673</td>\n",
              "      <td>4584</td>\n",
              "      <td>883</td>\n",
              "      <td>2315</td>\n",
              "      <td>13106</td>\n",
              "      <td>6605</td>\n",
              "      <td>7060</td>\n",
              "      <td>2261</td>\n",
              "      <td>1459</td>\n",
              "      <td>1169</td>\n",
              "      <td>1193</td>\n",
              "      <td>5473</td>\n",
              "      <td>3</td>\n",
              "    </tr>\n",
              "    <tr>\n",
              "      <th>New Mexico</th>\n",
              "      <td>972</td>\n",
              "      <td>6617</td>\n",
              "      <td>1374</td>\n",
              "      <td>3858</td>\n",
              "      <td>5199</td>\n",
              "      <td>2572</td>\n",
              "      <td>4952</td>\n",
              "      <td>1918</td>\n",
              "      <td>2083</td>\n",
              "      <td>12386</td>\n",
              "      <td>8735</td>\n",
              "      <td>6049</td>\n",
              "      <td>2742</td>\n",
              "      <td>1911</td>\n",
              "      <td>6032</td>\n",
              "      <td>3116</td>\n",
              "      <td>10840</td>\n",
              "      <td>3</td>\n",
              "    </tr>\n",
              "    <tr>\n",
              "      <th>North Dakota</th>\n",
              "      <td>2858</td>\n",
              "      <td>1557</td>\n",
              "      <td>848</td>\n",
              "      <td>1526</td>\n",
              "      <td>2649</td>\n",
              "      <td>2517</td>\n",
              "      <td>2047</td>\n",
              "      <td>1362</td>\n",
              "      <td>1044</td>\n",
              "      <td>5052</td>\n",
              "      <td>1823</td>\n",
              "      <td>2762</td>\n",
              "      <td>874</td>\n",
              "      <td>658</td>\n",
              "      <td>556</td>\n",
              "      <td>790</td>\n",
              "      <td>3213</td>\n",
              "      <td>3</td>\n",
              "    </tr>\n",
              "    <tr>\n",
              "      <th>Oklahoma</th>\n",
              "      <td>1318</td>\n",
              "      <td>17401</td>\n",
              "      <td>3361</td>\n",
              "      <td>5493</td>\n",
              "      <td>15548</td>\n",
              "      <td>7509</td>\n",
              "      <td>9217</td>\n",
              "      <td>4481</td>\n",
              "      <td>5798</td>\n",
              "      <td>20538</td>\n",
              "      <td>11840</td>\n",
              "      <td>11048</td>\n",
              "      <td>4372</td>\n",
              "      <td>3282</td>\n",
              "      <td>4782</td>\n",
              "      <td>2894</td>\n",
              "      <td>18104</td>\n",
              "      <td>3</td>\n",
              "    </tr>\n",
              "    <tr>\n",
              "      <th>Oregon</th>\n",
              "      <td>3156</td>\n",
              "      <td>347</td>\n",
              "      <td>2302</td>\n",
              "      <td>6589</td>\n",
              "      <td>46486</td>\n",
              "      <td>10453</td>\n",
              "      <td>8563</td>\n",
              "      <td>4263</td>\n",
              "      <td>5768</td>\n",
              "      <td>31357</td>\n",
              "      <td>15304</td>\n",
              "      <td>14602</td>\n",
              "      <td>5201</td>\n",
              "      <td>3630</td>\n",
              "      <td>3628</td>\n",
              "      <td>752</td>\n",
              "      <td>17753</td>\n",
              "      <td>3</td>\n",
              "    </tr>\n",
              "    <tr>\n",
              "      <th>Rhode Island</th>\n",
              "      <td>75</td>\n",
              "      <td>44</td>\n",
              "      <td>751</td>\n",
              "      <td>2175</td>\n",
              "      <td>3724</td>\n",
              "      <td>2365</td>\n",
              "      <td>2607</td>\n",
              "      <td>705</td>\n",
              "      <td>2060</td>\n",
              "      <td>11651</td>\n",
              "      <td>4998</td>\n",
              "      <td>6367</td>\n",
              "      <td>1829</td>\n",
              "      <td>1052</td>\n",
              "      <td>1328</td>\n",
              "      <td>1433</td>\n",
              "      <td>4427</td>\n",
              "      <td>3</td>\n",
              "    </tr>\n",
              "    <tr>\n",
              "      <th>South Carolina</th>\n",
              "      <td>1148</td>\n",
              "      <td>302</td>\n",
              "      <td>4453</td>\n",
              "      <td>7885</td>\n",
              "      <td>25106</td>\n",
              "      <td>8815</td>\n",
              "      <td>11953</td>\n",
              "      <td>3478</td>\n",
              "      <td>4071</td>\n",
              "      <td>27576</td>\n",
              "      <td>15077</td>\n",
              "      <td>11376</td>\n",
              "      <td>6722</td>\n",
              "      <td>4079</td>\n",
              "      <td>3290</td>\n",
              "      <td>4268</td>\n",
              "      <td>20449</td>\n",
              "      <td>3</td>\n",
              "    </tr>\n",
              "    <tr>\n",
              "      <th>South Dakota</th>\n",
              "      <td>3124</td>\n",
              "      <td>152</td>\n",
              "      <td>612</td>\n",
              "      <td>1470</td>\n",
              "      <td>3184</td>\n",
              "      <td>2242</td>\n",
              "      <td>2517</td>\n",
              "      <td>890</td>\n",
              "      <td>934</td>\n",
              "      <td>9755</td>\n",
              "      <td>1905</td>\n",
              "      <td>3449</td>\n",
              "      <td>1193</td>\n",
              "      <td>783</td>\n",
              "      <td>745</td>\n",
              "      <td>539</td>\n",
              "      <td>3487</td>\n",
              "      <td>3</td>\n",
              "    </tr>\n",
              "    <tr>\n",
              "      <th>Tennessee</th>\n",
              "      <td>1386</td>\n",
              "      <td>1173</td>\n",
              "      <td>1611</td>\n",
              "      <td>9072</td>\n",
              "      <td>38465</td>\n",
              "      <td>16434</td>\n",
              "      <td>18257</td>\n",
              "      <td>11202</td>\n",
              "      <td>7900</td>\n",
              "      <td>39924</td>\n",
              "      <td>25587</td>\n",
              "      <td>26582</td>\n",
              "      <td>10288</td>\n",
              "      <td>6682</td>\n",
              "      <td>7115</td>\n",
              "      <td>1615</td>\n",
              "      <td>24173</td>\n",
              "      <td>3</td>\n",
              "    </tr>\n",
              "    <tr>\n",
              "      <th>Utah</th>\n",
              "      <td>357</td>\n",
              "      <td>3425</td>\n",
              "      <td>1481</td>\n",
              "      <td>5954</td>\n",
              "      <td>15609</td>\n",
              "      <td>5711</td>\n",
              "      <td>7875</td>\n",
              "      <td>3740</td>\n",
              "      <td>4214</td>\n",
              "      <td>22879</td>\n",
              "      <td>11461</td>\n",
              "      <td>8036</td>\n",
              "      <td>3588</td>\n",
              "      <td>3364</td>\n",
              "      <td>3898</td>\n",
              "      <td>1588</td>\n",
              "      <td>11254</td>\n",
              "      <td>3</td>\n",
              "    </tr>\n",
              "    <tr>\n",
              "      <th>Vermont</th>\n",
              "      <td>263</td>\n",
              "      <td>223</td>\n",
              "      <td>596</td>\n",
              "      <td>1030</td>\n",
              "      <td>2632</td>\n",
              "      <td>1168</td>\n",
              "      <td>2005</td>\n",
              "      <td>484</td>\n",
              "      <td>683</td>\n",
              "      <td>4973</td>\n",
              "      <td>2176</td>\n",
              "      <td>3262</td>\n",
              "      <td>1302</td>\n",
              "      <td>591</td>\n",
              "      <td>745</td>\n",
              "      <td>254</td>\n",
              "      <td>2864</td>\n",
              "      <td>3</td>\n",
              "    </tr>\n",
              "    <tr>\n",
              "      <th>West Virginia</th>\n",
              "      <td>186</td>\n",
              "      <td>7502</td>\n",
              "      <td>1842</td>\n",
              "      <td>2723</td>\n",
              "      <td>6775</td>\n",
              "      <td>2932</td>\n",
              "      <td>4488</td>\n",
              "      <td>1956</td>\n",
              "      <td>1441</td>\n",
              "      <td>7935</td>\n",
              "      <td>4264</td>\n",
              "      <td>6271</td>\n",
              "      <td>2286</td>\n",
              "      <td>1394</td>\n",
              "      <td>2744</td>\n",
              "      <td>608</td>\n",
              "      <td>7405</td>\n",
              "      <td>3</td>\n",
              "    </tr>\n",
              "    <tr>\n",
              "      <th>Wisconsin</th>\n",
              "      <td>3089</td>\n",
              "      <td>548</td>\n",
              "      <td>4664</td>\n",
              "      <td>9205</td>\n",
              "      <td>45247</td>\n",
              "      <td>14446</td>\n",
              "      <td>14753</td>\n",
              "      <td>6961</td>\n",
              "      <td>7949</td>\n",
              "      <td>49183</td>\n",
              "      <td>21309</td>\n",
              "      <td>24567</td>\n",
              "      <td>7502</td>\n",
              "      <td>5745</td>\n",
              "      <td>3346</td>\n",
              "      <td>991</td>\n",
              "      <td>26392</td>\n",
              "      <td>3</td>\n",
              "    </tr>\n",
              "    <tr>\n",
              "      <th>Wyoming</th>\n",
              "      <td>401</td>\n",
              "      <td>13165</td>\n",
              "      <td>822</td>\n",
              "      <td>1906</td>\n",
              "      <td>1624</td>\n",
              "      <td>1307</td>\n",
              "      <td>1956</td>\n",
              "      <td>2238</td>\n",
              "      <td>449</td>\n",
              "      <td>4233</td>\n",
              "      <td>1408</td>\n",
              "      <td>1446</td>\n",
              "      <td>1237</td>\n",
              "      <td>597</td>\n",
              "      <td>749</td>\n",
              "      <td>414</td>\n",
              "      <td>3939</td>\n",
              "      <td>3</td>\n",
              "    </tr>\n",
              "  </tbody>\n",
              "</table>\n",
              "</div>"
            ],
            "text/plain": [
              "                Agriculture  Mining  Utilities  ...  Fed. military  State.1  group\n",
              "State                                           ...                               \n",
              "Alabama                2040    2982       4965  ...           4367    19746      3\n",
              "Alaska                  305   14327        612  ...           2398     4929      3\n",
              "Arizona                1528    4687       5677  ...           3833    25123      3\n",
              "Arkansas               2537    2249       2467  ...           1148    10494      3\n",
              "Colorado               2112   11330       3152  ...           4766    21580      3\n",
              "Connecticut             314     113       3998  ...           2928    18668      3\n",
              "Delaware                276       1        868  ...            632     4945      3\n",
              "Hawaii                  441     108       1428  ...           5232     6215      3\n",
              "Idaho                  2494     809        867  ...            663     6086      3\n",
              "Indiana                3647    1394       5431  ...           1638    22560      3\n",
              "Iowa                   7234     321       2412  ...            781    14668      3\n",
              "Kansas                 4069    1771       2470  ...           3269    13064      3\n",
              "Kentucky               2322    5664       2831  ...           4622    16601      3\n",
              "Louisiana              1769   20980       3798  ...           2655    19579      3\n",
              "Maine                   646       9        895  ...            757     5229      3\n",
              "Minnesota              5120     953       4101  ...           1698    24204      3\n",
              "Mississippi            1922    1678       2546  ...           2302    12245      3\n",
              "Missouri               3106    1049       4222  ...           2969    23833      3\n",
              "Montana                1266    1880        980  ...            533     4087      3\n",
              "Nebraska               5273     159       1428  ...           1010     9217      3\n",
              "Nevada                  264    4620       2318  ...           1223    11411      3\n",
              "New Hampshire           168      98       1232  ...           1193     5473      3\n",
              "New Mexico              972    6617       1374  ...           3116    10840      3\n",
              "North Dakota           2858    1557        848  ...            790     3213      3\n",
              "Oklahoma               1318   17401       3361  ...           2894    18104      3\n",
              "Oregon                 3156     347       2302  ...            752    17753      3\n",
              "Rhode Island             75      44        751  ...           1433     4427      3\n",
              "South Carolina         1148     302       4453  ...           4268    20449      3\n",
              "South Dakota           3124     152        612  ...            539     3487      3\n",
              "Tennessee              1386    1173       1611  ...           1615    24173      3\n",
              "Utah                    357    3425       1481  ...           1588    11254      3\n",
              "Vermont                 263     223        596  ...            254     2864      3\n",
              "West Virginia           186    7502       1842  ...            608     7405      3\n",
              "Wisconsin              3089     548       4664  ...            991    26392      3\n",
              "Wyoming                 401   13165        822  ...            414     3939      3\n",
              "\n",
              "[35 rows x 18 columns]"
            ]
          },
          "metadata": {
            "tags": []
          },
          "execution_count": 37
        }
      ]
    },
    {
      "cell_type": "markdown",
      "metadata": {
        "id": "hlwAb7eakBZx",
        "colab_type": "text"
      },
      "source": [
        "O sacar todos los estadísticos basicos para luego pasarlo a otra herramienta (Excel)"
      ]
    },
    {
      "cell_type": "code",
      "metadata": {
        "id": "zouiCkiwkBFX",
        "colab_type": "code",
        "outputId": "08d15360-acc9-4c0d-d07f-03274a683ad8",
        "colab": {
          "base_uri": "https://localhost:8080/",
          "height": 257
        }
      },
      "source": [
        "res = df[['Agriculture', 'Utilities', 'group']].groupby('group').describe()\n",
        "res"
      ],
      "execution_count": 0,
      "outputs": [
        {
          "output_type": "execute_result",
          "data": {
            "text/html": [
              "<div>\n",
              "<style scoped>\n",
              "    .dataframe tbody tr th:only-of-type {\n",
              "        vertical-align: middle;\n",
              "    }\n",
              "\n",
              "    .dataframe tbody tr th {\n",
              "        vertical-align: top;\n",
              "    }\n",
              "\n",
              "    .dataframe thead tr th {\n",
              "        text-align: left;\n",
              "    }\n",
              "\n",
              "    .dataframe thead tr:last-of-type th {\n",
              "        text-align: right;\n",
              "    }\n",
              "</style>\n",
              "<table border=\"1\" class=\"dataframe\">\n",
              "  <thead>\n",
              "    <tr>\n",
              "      <th></th>\n",
              "      <th colspan=\"8\" halign=\"left\">Agriculture</th>\n",
              "      <th colspan=\"8\" halign=\"left\">Utilities</th>\n",
              "    </tr>\n",
              "    <tr>\n",
              "      <th></th>\n",
              "      <th>count</th>\n",
              "      <th>mean</th>\n",
              "      <th>std</th>\n",
              "      <th>min</th>\n",
              "      <th>25%</th>\n",
              "      <th>50%</th>\n",
              "      <th>75%</th>\n",
              "      <th>max</th>\n",
              "      <th>count</th>\n",
              "      <th>mean</th>\n",
              "      <th>std</th>\n",
              "      <th>min</th>\n",
              "      <th>25%</th>\n",
              "      <th>50%</th>\n",
              "      <th>75%</th>\n",
              "      <th>max</th>\n",
              "    </tr>\n",
              "    <tr>\n",
              "      <th>group</th>\n",
              "      <th></th>\n",
              "      <th></th>\n",
              "      <th></th>\n",
              "      <th></th>\n",
              "      <th></th>\n",
              "      <th></th>\n",
              "      <th></th>\n",
              "      <th></th>\n",
              "      <th></th>\n",
              "      <th></th>\n",
              "      <th></th>\n",
              "      <th></th>\n",
              "      <th></th>\n",
              "      <th></th>\n",
              "      <th></th>\n",
              "      <th></th>\n",
              "    </tr>\n",
              "  </thead>\n",
              "  <tbody>\n",
              "    <tr>\n",
              "      <th>1</th>\n",
              "      <td>2.0</td>\n",
              "      <td>3980.000000</td>\n",
              "      <td>2805.799708</td>\n",
              "      <td>1996.0</td>\n",
              "      <td>2988.0</td>\n",
              "      <td>3980.0</td>\n",
              "      <td>4972.0</td>\n",
              "      <td>5964.0</td>\n",
              "      <td>2.0</td>\n",
              "      <td>21265.000000</td>\n",
              "      <td>4570.738234</td>\n",
              "      <td>18033.0</td>\n",
              "      <td>19649.0</td>\n",
              "      <td>21265.0</td>\n",
              "      <td>22881.0</td>\n",
              "      <td>24497.0</td>\n",
              "    </tr>\n",
              "    <tr>\n",
              "      <th>2</th>\n",
              "      <td>1.0</td>\n",
              "      <td>25439.000000</td>\n",
              "      <td>NaN</td>\n",
              "      <td>25439.0</td>\n",
              "      <td>25439.0</td>\n",
              "      <td>25439.0</td>\n",
              "      <td>25439.0</td>\n",
              "      <td>25439.0</td>\n",
              "      <td>1.0</td>\n",
              "      <td>27999.000000</td>\n",
              "      <td>NaN</td>\n",
              "      <td>27999.0</td>\n",
              "      <td>27999.0</td>\n",
              "      <td>27999.0</td>\n",
              "      <td>27999.0</td>\n",
              "      <td>27999.0</td>\n",
              "    </tr>\n",
              "    <tr>\n",
              "      <th>3</th>\n",
              "      <td>35.0</td>\n",
              "      <td>1919.600000</td>\n",
              "      <td>1706.742877</td>\n",
              "      <td>75.0</td>\n",
              "      <td>379.0</td>\n",
              "      <td>1528.0</td>\n",
              "      <td>2973.5</td>\n",
              "      <td>7234.0</td>\n",
              "      <td>35.0</td>\n",
              "      <td>2383.285714</td>\n",
              "      <td>1539.752111</td>\n",
              "      <td>596.0</td>\n",
              "      <td>937.5</td>\n",
              "      <td>2302.0</td>\n",
              "      <td>3579.5</td>\n",
              "      <td>5677.0</td>\n",
              "    </tr>\n",
              "    <tr>\n",
              "      <th>4</th>\n",
              "      <td>13.0</td>\n",
              "      <td>2856.384615</td>\n",
              "      <td>1965.264509</td>\n",
              "      <td>2.0</td>\n",
              "      <td>947.0</td>\n",
              "      <td>2850.0</td>\n",
              "      <td>4176.0</td>\n",
              "      <td>5559.0</td>\n",
              "      <td>13.0</td>\n",
              "      <td>7676.692308</td>\n",
              "      <td>3729.386598</td>\n",
              "      <td>1372.0</td>\n",
              "      <td>5828.0</td>\n",
              "      <td>7951.0</td>\n",
              "      <td>9497.0</td>\n",
              "      <td>16011.0</td>\n",
              "    </tr>\n",
              "  </tbody>\n",
              "</table>\n",
              "</div>"
            ],
            "text/plain": [
              "      Agriculture                             ... Utilities                  \n",
              "            count          mean          std  ...       50%      75%      max\n",
              "group                                         ...                            \n",
              "1             2.0   3980.000000  2805.799708  ...   21265.0  22881.0  24497.0\n",
              "2             1.0  25439.000000          NaN  ...   27999.0  27999.0  27999.0\n",
              "3            35.0   1919.600000  1706.742877  ...    2302.0   3579.5   5677.0\n",
              "4            13.0   2856.384615  1965.264509  ...    7951.0   9497.0  16011.0\n",
              "\n",
              "[4 rows x 16 columns]"
            ]
          },
          "metadata": {
            "tags": []
          },
          "execution_count": 38
        }
      ]
    },
    {
      "cell_type": "code",
      "metadata": {
        "id": "RLY7hJeZkdF4",
        "colab_type": "code",
        "colab": {}
      },
      "source": [
        "res.to_excel('res.xlsx')\n",
        "files.download('res.xlsx')"
      ],
      "execution_count": 0,
      "outputs": []
    },
    {
      "cell_type": "markdown",
      "metadata": {
        "id": "MqTC6eKOaCp5",
        "colab_type": "text"
      },
      "source": [
        "Para finalizar buscamos una visualización un poco especial con [seaborn.clustermap](https://seaborn.pydata.org/generated/seaborn.clustermap.html)"
      ]
    },
    {
      "cell_type": "code",
      "metadata": {
        "id": "NyG_IlhjWOq3",
        "colab_type": "code",
        "outputId": "e4554f00-65fe-4c82-ebae-65a71738b2a0",
        "colab": {
          "base_uri": "https://localhost:8080/",
          "height": 745
        }
      },
      "source": [
        "sns.set(color_codes=True)\n",
        "sns.clustermap(df, standard_scale=1)"
      ],
      "execution_count": 0,
      "outputs": [
        {
          "output_type": "execute_result",
          "data": {
            "text/plain": [
              "<seaborn.matrix.ClusterGrid at 0x7f810aa425f8>"
            ]
          },
          "metadata": {
            "tags": []
          },
          "execution_count": 40
        },
        {
          "output_type": "display_data",
          "data": {
            "image/png": "[encoded data removed]",
            "text/plain": [
              "<Figure size 720x720 with 4 Axes>"
            ]
          },
          "metadata": {
            "tags": []
          }
        }
      ]
    },
    {
      "cell_type": "markdown",
      "metadata": {
        "id": "pbkMWnOdqZvr",
        "colab_type": "text"
      },
      "source": [
        "# K-means"
      ]
    },
    {
      "cell_type": "markdown",
      "metadata": {
        "id": "sGM1r1bEGiDo",
        "colab_type": "text"
      },
      "source": [
        "The k-means algorithm is based on the idea that a central point (centroid) can represent a cluster. Normally this point is the mean or median of a group of points (may not be an element of the whole to be analyzed). The k-means algorithm establishes a distance between the elements by selecting a predefined number of centroids.\n",
        "\n",
        "K-means uses these pre-selected centroids as \"seeds\" in the process of building the clusters. To do this, a cluster is assigned to each centroid, in an iterative process. The cluster assigned to each centroid is the closest to it, and the distance is measured between the element to be included and the mean value for all the clusters. As mentioned above, the goal of the k- means algorithm process is to minimize an error function or distance, for example, the sum of squared errors.\n",
        "\n"
      ]
    },
    {
      "cell_type": "markdown",
      "metadata": {
        "id": "n3_UzsDdqiAq",
        "colab_type": "text"
      },
      "source": [
        "### Parametrization\n",
        "\n"
      ]
    },
    {
      "cell_type": "markdown",
      "metadata": {
        "id": "p_QY-X_Bqeen",
        "colab_type": "text"
      },
      "source": [
        "En primer lugar vamos a establecer los parámetros que vamos a considerar por defecto"
      ]
    },
    {
      "cell_type": "code",
      "metadata": {
        "id": "FtPylr35qigK",
        "colab_type": "code",
        "colab": {}
      },
      "source": [
        "# parameters\n",
        "init = 'random' # initialization method \n",
        "\n",
        "# to run 10 times with different random centroids \n",
        "# to choose the final model as the one with the lowest SSE\n",
        "iterations = 10\n",
        "\n",
        "# maximum number of iterations for each single run\n",
        "max_iter = 300 \n",
        "\n",
        "# controls the tolerance with regard to the changes in the \n",
        "# within-cluster sum-squared-error to declare convergence\n",
        "\n",
        "tol = 1e-04 \n",
        "\n",
        " # random seed\n",
        "random_state = 0"
      ],
      "execution_count": 0,
      "outputs": []
    },
    {
      "cell_type": "markdown",
      "metadata": {
        "id": "bKnjJHPgqAGi",
        "colab_type": "text"
      },
      "source": [
        "Vamos a elegir K dependiendo de los valores que tome el clustering en cuanto a Distorsión (SSE) y Silhouette desde k = 2 a k = 11\n",
        "\n",
        "*En este caso además vamos a optar por hacer el clustering sobre los datos proyectados mediante PCA*"
      ]
    },
    {
      "cell_type": "code",
      "metadata": {
        "id": "RoGwcPI_qsrx",
        "colab_type": "code",
        "colab": {}
      },
      "source": [
        "from sklearn.cluster import KMeans\n",
        "from sklearn import metrics\n",
        "\n",
        "distortions = []\n",
        "silhouettes = []\n",
        "\n",
        "for i in range(2, 11):\n",
        "    km = KMeans(i, init, n_init = iterations ,max_iter= max_iter, tol = tol,random_state = random_state)\n",
        "    labels = km.fit_predict(X_pca)\n",
        "    distortions.append(km.inertia_)\n",
        "    silhouettes.append(metrics.silhouette_score(X_pca, labels))"
      ],
      "execution_count": 0,
      "outputs": []
    },
    {
      "cell_type": "code",
      "metadata": {
        "id": "QiCtr5y8q5EV",
        "colab_type": "code",
        "outputId": "3a35e8f0-dc36-437f-f63d-74c7850e0130",
        "colab": {
          "base_uri": "https://localhost:8080/",
          "height": 285
        }
      },
      "source": [
        "plt.plot(range(2,11), distortions, marker='o')\n",
        "plt.xlabel('K')\n",
        "plt.ylabel('Distortion')\n",
        "plt.show()"
      ],
      "execution_count": 0,
      "outputs": [
        {
          "output_type": "display_data",
          "data": {
            "image/png": "[encoded data removed]",
            "text/plain": [
              "<Figure size 432x288 with 1 Axes>"
            ]
          },
          "metadata": {
            "tags": []
          }
        }
      ]
    },
    {
      "cell_type": "code",
      "metadata": {
        "id": "xGSSAEN3q8Br",
        "colab_type": "code",
        "outputId": "b9a5969d-8244-4eea-a5f9-a66e0e68d504",
        "colab": {
          "base_uri": "https://localhost:8080/",
          "height": 285
        }
      },
      "source": [
        "plt.plot(range(2,11), silhouettes , marker='o')\n",
        "plt.xlabel('K')\n",
        "plt.ylabel('Silohouette')\n",
        "plt.show()"
      ],
      "execution_count": 0,
      "outputs": [
        {
          "output_type": "display_data",
          "data": {
            "image/png": "[encoded data removed]",
            "text/plain": [
              "<Figure size 432x288 with 1 Axes>"
            ]
          },
          "metadata": {
            "tags": []
          }
        }
      ]
    },
    {
      "cell_type": "markdown",
      "metadata": {
        "id": "M342xnPPGy-r",
        "colab_type": "text"
      },
      "source": [
        "### Ejecución del Algoritmo"
      ]
    },
    {
      "cell_type": "markdown",
      "metadata": {
        "id": "0IUA5Q1KdtYB",
        "colab_type": "text"
      },
      "source": [
        "Vamos a seleccionar k = 4 con el fin de ejecutar el clustering"
      ]
    },
    {
      "cell_type": "code",
      "metadata": {
        "id": "R7iXNUxfGp7L",
        "colab_type": "code",
        "colab": {}
      },
      "source": [
        "k = 4\n",
        "\n",
        "km = KMeans(k, init, n_init = iterations ,\n",
        "            max_iter= max_iter, tol = tol, random_state = random_state)\n",
        "\n",
        "y_km = km.fit_predict(X_pca)"
      ],
      "execution_count": 0,
      "outputs": []
    },
    {
      "cell_type": "markdown",
      "metadata": {
        "id": "G-PUrO7WHNK3",
        "colab_type": "text"
      },
      "source": [
        "Vamos a calcular los valores finales de las métricas del algoritmo"
      ]
    },
    {
      "cell_type": "code",
      "metadata": {
        "id": "wDJOeEnHHLwa",
        "colab_type": "code",
        "outputId": "8ed02db4-6651-41c9-a67f-65e1b14725b7",
        "colab": {
          "base_uri": "https://localhost:8080/",
          "height": 51
        }
      },
      "source": [
        "from sklearn import metrics\n",
        "print(\"Silhouette Coefficient: %0.3f\"\n",
        "      % metrics.silhouette_score(datanorm, y_km))\n",
        "      \n",
        "print('Distortion: %.2f' % km.inertia_)"
      ],
      "execution_count": 0,
      "outputs": [
        {
          "output_type": "stream",
          "text": [
            "Silhouette Coefficient: 0.462\n",
            "Distortion: 142.94\n"
          ],
          "name": "stdout"
        }
      ]
    },
    {
      "cell_type": "markdown",
      "metadata": {
        "id": "4LNLu8ytGpc9",
        "colab_type": "text"
      },
      "source": [
        "Y vamos a visualizar los resultados\n"
      ]
    },
    {
      "cell_type": "code",
      "metadata": {
        "id": "HKzalpTaeZYA",
        "colab_type": "code",
        "outputId": "65d76199-7ba7-4b7d-9e6b-bd6e9692c8d2",
        "colab": {
          "base_uri": "https://localhost:8080/",
          "height": 68
        }
      },
      "source": [
        "km.labels_"
      ],
      "execution_count": 0,
      "outputs": [
        {
          "output_type": "execute_result",
          "data": {
            "text/plain": [
              "array([0, 0, 0, 0, 1, 0, 0, 0, 0, 2, 3, 0, 0, 2, 0, 0, 0, 0, 0, 0, 3, 3,\n",
              "       3, 0, 0, 0, 0, 0, 0, 0, 3, 0, 2, 3, 0, 3, 0, 0, 3, 0, 0, 0, 0, 1,\n",
              "       0, 0, 3, 3, 0, 0, 0], dtype=int32)"
            ]
          },
          "metadata": {
            "tags": []
          },
          "execution_count": 48
        }
      ]
    },
    {
      "cell_type": "code",
      "metadata": {
        "id": "w_QeA5_iOV5k",
        "colab_type": "code",
        "outputId": "006a6e53-2c9d-4238-df12-a1e8e745a123",
        "colab": {
          "base_uri": "https://localhost:8080/",
          "height": 268
        }
      },
      "source": [
        "#plotting orginal points with color related to label\n",
        "plt.scatter(X_pca[:,0], X_pca[:,1], c=km.labels_,s=50)\n",
        "# plotting centroids\n",
        "plt.scatter(km.cluster_centers_[:,0], km.cluster_centers_[:,1], c='blue',s=50)\n",
        "# \n",
        "plt.grid()\n",
        "plt.show()\n",
        "      "
      ],
      "execution_count": 0,
      "outputs": [
        {
          "output_type": "display_data",
          "data": {
            "image/png": "[encoded data removed]",
            "text/plain": [
              "<Figure size 432x288 with 1 Axes>"
            ]
          },
          "metadata": {
            "tags": []
          }
        }
      ]
    },
    {
      "cell_type": "markdown",
      "metadata": {
        "id": "brr8SS6mqEWX",
        "colab_type": "text"
      },
      "source": [
        "Y a proceder a su interpretación"
      ]
    },
    {
      "cell_type": "code",
      "metadata": {
        "id": "dvz-yzttl7_Y",
        "colab_type": "code",
        "outputId": "6a477652-81d3-4d9a-e6ad-f970adfc6a16",
        "colab": {
          "base_uri": "https://localhost:8080/",
          "height": 302
        }
      },
      "source": [
        "df['kmeans_group'] = km.labels_\n",
        "\n",
        "\n",
        "res = df[['Finance', 'Mining', 'Manufacturing', 'kmeans_group']].groupby(('kmeans_group')).mean()\n",
        "res.plot(kind='bar', legend=True)"
      ],
      "execution_count": 0,
      "outputs": [
        {
          "output_type": "execute_result",
          "data": {
            "text/plain": [
              "<matplotlib.axes._subplots.AxesSubplot at 0x7f810bad40b8>"
            ]
          },
          "metadata": {
            "tags": []
          },
          "execution_count": 50
        },
        {
          "output_type": "display_data",
          "data": {
            "image/png": "[encoded data removed]",
            "text/plain": [
              "<Figure size 432x288 with 1 Axes>"
            ]
          },
          "metadata": {
            "tags": []
          }
        }
      ]
    },
    {
      "cell_type": "markdown",
      "metadata": {
        "id": "4T7aBVB5JcXw",
        "colab_type": "text"
      },
      "source": [
        "# DBSCAN\n",
        "\n"
      ]
    },
    {
      "cell_type": "markdown",
      "metadata": {
        "id": "ZN6iN_6Yqbeq",
        "colab_type": "text"
      },
      "source": [
        "La idea clave de los algoritmos de clustering basados en densidad es que asumen que los grupos\n",
        "están definidos en áreas de gran densidad de datos. Las zonas pocos densas separan los grupos.\n",
        "DBSCAN es el primer algoritmo que se definió basado en la densidad describiéndose los conceptos\n",
        "de punto central, borde y ruido. Los puntos centrales poseen un área de vecindad para\n",
        "un determinado radio que tiene por lo menos un número mínimo de puntos, o sea que su área de\n",
        "vecindad excede un determinado umbral"
      ]
    },
    {
      "cell_type": "markdown",
      "metadata": {
        "id": "_hmMkF14qNBK",
        "colab_type": "text"
      },
      "source": [
        "### Parametrización\n"
      ]
    },
    {
      "cell_type": "markdown",
      "metadata": {
        "id": "krU2oRXhKE2s",
        "colab_type": "text"
      },
      "source": [
        "Dibujamos en un gráfico la distancia mas corta al vecino para obtener el epsilon a utilizar en DBSCAN.\n",
        "Como MintPts ponemos un número bajo, considerando que tener 3 estados parecidos es ya sinónimo de un área densa. \n",
        "\n",
        "NOTA: Para realizar estos cálculos nos vamos a apoyar en la matriz de similitud calculada para la ejecución del Algoritmo Jerárquico\n"
      ]
    },
    {
      "cell_type": "code",
      "metadata": {
        "id": "-I7kPBEWKNP-",
        "colab_type": "code",
        "outputId": "4ac304bb-ae8b-42ab-84a6-603921854a30",
        "colab": {
          "base_uri": "https://localhost:8080/",
          "height": 268
        }
      },
      "source": [
        "minPts=3\n",
        "from sklearn.neighbors import kneighbors_graph\n",
        "A = kneighbors_graph(datanorm, minPts, include_self=False)\n",
        "Ar = A.toarray()\n",
        "\n",
        "seq = []\n",
        "for i,s in enumerate(datanorm):\n",
        "    for j in range(len(datanorm)):\n",
        "        if Ar[i][j] != 0:\n",
        "            seq.append(matsim[i][j])\n",
        "            \n",
        "seq.sort()\n",
        "# establecer intervalo ejes\n",
        "fig = plt.figure()\n",
        "ax = fig.gca()\n",
        "ax.set_xticks(numpy.arange(0, 150, 20))\n",
        "ax.set_yticks(numpy.arange(0, 3, 0.2))\n",
        "\n",
        "plt.plot(seq)\n",
        "\n",
        "\n",
        "plt.show()"
      ],
      "execution_count": 0,
      "outputs": [
        {
          "output_type": "display_data",
          "data": {
            "image/png": "[encoded data removed]",
            "text/plain": [
              "<Figure size 432x288 with 1 Axes>"
            ]
          },
          "metadata": {
            "tags": []
          }
        }
      ]
    },
    {
      "cell_type": "markdown",
      "metadata": {
        "id": "syyC0088K5iL",
        "colab_type": "text"
      },
      "source": [
        "Aunque se podría probar con otras opciones vamos a optar por probar  a realizar diferntes clusters desde 0.2 a 0.7 con intervalos de 0.1. De todas formas la disposición de los datos hará que DBSCAN únicamente aisle una zona densa de aquellos elementos que considera *outliers*"
      ]
    },
    {
      "cell_type": "markdown",
      "metadata": {
        "id": "CE2ZWAU9YaPt",
        "colab_type": "text"
      },
      "source": [
        "## Ejecución"
      ]
    },
    {
      "cell_type": "code",
      "metadata": {
        "id": "OqGMe4lDK3g7",
        "colab_type": "code",
        "outputId": "63735b05-6b0c-4a0e-dce0-5a13c7f47ca4",
        "colab": {
          "base_uri": "https://localhost:8080/",
          "height": 102
        }
      },
      "source": [
        "from sklearn.cluster import DBSCAN\n",
        "\n",
        "for eps in numpy.arange(0.20, 0.7, 0.10):\n",
        "  db = DBSCAN(eps, min_samples=minPts).fit(datanorm)\n",
        "  core_samples_mask = numpy.zeros_like(db.labels_, dtype=bool)\n",
        "  core_samples_mask[db.core_sample_indices_] = True\n",
        "  labels = db.labels_\n",
        "  n_clusters_ = len(set(labels)) - (1 if -1 in labels else 0)\n",
        "  print (eps, n_clusters_)\n",
        "  \n",
        "#labels"
      ],
      "execution_count": 0,
      "outputs": [
        {
          "output_type": "stream",
          "text": [
            "0.2 1\n",
            "0.30000000000000004 1\n",
            "0.4000000000000001 1\n",
            "0.5000000000000001 2\n",
            "0.6000000000000001 1\n"
          ],
          "name": "stdout"
        }
      ]
    },
    {
      "cell_type": "code",
      "metadata": {
        "id": "ce989cxzIJHl",
        "colab_type": "code",
        "outputId": "a22372b8-0734-4ee6-b273-2fa806ea869c",
        "colab": {
          "base_uri": "https://localhost:8080/",
          "height": 68
        }
      },
      "source": [
        "db = DBSCAN(eps=0.5, min_samples=minPts).fit(datanorm)\n",
        "labels = db.labels_\n",
        "labels"
      ],
      "execution_count": 0,
      "outputs": [
        {
          "output_type": "execute_result",
          "data": {
            "text/plain": [
              "array([ 0,  0,  0,  0, -1,  0,  0,  0,  1, -1,  0,  0,  0,  0,  0,  0,  0,\n",
              "        0,  0,  0,  1,  0,  0,  0,  0,  0,  0,  0,  0,  0,  0,  0, -1,  0,\n",
              "        0,  0,  0,  0,  0,  0,  0,  0,  0, -1,  0,  0,  1,  0,  0,  0,  0])"
            ]
          },
          "metadata": {
            "tags": []
          },
          "execution_count": 26
        }
      ]
    },
    {
      "cell_type": "markdown",
      "metadata": {
        "id": "19D9aCoCqtks",
        "colab_type": "text"
      },
      "source": [
        "Visualizamos los resultados"
      ]
    },
    {
      "cell_type": "code",
      "metadata": {
        "id": "YEbIQqaYQL_e",
        "colab_type": "code",
        "outputId": "8ea78722-23d4-488b-8f6f-b75dd787d7e2",
        "colab": {
          "base_uri": "https://localhost:8080/",
          "height": 268
        }
      },
      "source": [
        "#plotting orginal points with color related to label\n",
        "plt.scatter(X_pca[:,0], X_pca[:,1], c=labels,s=50)\n",
        "plt.grid()\n",
        "plt.show()"
      ],
      "execution_count": 0,
      "outputs": [
        {
          "output_type": "display_data",
          "data": {
            "image/png": "[encoded data removed]",
            "text/plain": [
              "<Figure size 432x288 with 1 Axes>"
            ]
          },
          "metadata": {
            "tags": []
          }
        }
      ]
    },
    {
      "cell_type": "markdown",
      "metadata": {
        "id": "UjyFrBnCqvv_",
        "colab_type": "text"
      },
      "source": [
        "Y aunque podríamos proceder a su intepretación en este caso lo que vamos a hacer es identificar aquellos elementos que son outliers"
      ]
    },
    {
      "cell_type": "code",
      "metadata": {
        "id": "3QELcpJfmOWT",
        "colab_type": "code",
        "outputId": "f487d6bd-158f-4e87-fb62-03d9410d1cf1",
        "colab": {
          "base_uri": "https://localhost:8080/",
          "height": 237
        }
      },
      "source": [
        "df['dbscan_group'] = labels\n",
        "\n",
        "df[df['dbscan_group'] == -1]"
      ],
      "execution_count": 0,
      "outputs": [
        {
          "output_type": "execute_result",
          "data": {
            "text/html": [
              "<div>\n",
              "<style scoped>\n",
              "    .dataframe tbody tr th:only-of-type {\n",
              "        vertical-align: middle;\n",
              "    }\n",
              "\n",
              "    .dataframe tbody tr th {\n",
              "        vertical-align: top;\n",
              "    }\n",
              "\n",
              "    .dataframe thead th {\n",
              "        text-align: right;\n",
              "    }\n",
              "</style>\n",
              "<table border=\"1\" class=\"dataframe\">\n",
              "  <thead>\n",
              "    <tr style=\"text-align: right;\">\n",
              "      <th></th>\n",
              "      <th>Agriculture</th>\n",
              "      <th>Mining</th>\n",
              "      <th>Utilities</th>\n",
              "      <th>Construction</th>\n",
              "      <th>Manufacturing</th>\n",
              "      <th>Wholesale trade</th>\n",
              "      <th>Retail</th>\n",
              "      <th>Transportation</th>\n",
              "      <th>Information</th>\n",
              "      <th>Finance</th>\n",
              "      <th>Buss. Services</th>\n",
              "      <th>Education</th>\n",
              "      <th>Arts</th>\n",
              "      <th>Oth Serv.</th>\n",
              "      <th>Fed. civ</th>\n",
              "      <th>Fed. military</th>\n",
              "      <th>State.1</th>\n",
              "      <th>dbscan_group</th>\n",
              "    </tr>\n",
              "    <tr>\n",
              "      <th>State</th>\n",
              "      <th></th>\n",
              "      <th></th>\n",
              "      <th></th>\n",
              "      <th></th>\n",
              "      <th></th>\n",
              "      <th></th>\n",
              "      <th></th>\n",
              "      <th></th>\n",
              "      <th></th>\n",
              "      <th></th>\n",
              "      <th></th>\n",
              "      <th></th>\n",
              "      <th></th>\n",
              "      <th></th>\n",
              "      <th></th>\n",
              "      <th></th>\n",
              "      <th></th>\n",
              "      <th></th>\n",
              "    </tr>\n",
              "  </thead>\n",
              "  <tbody>\n",
              "    <tr>\n",
              "      <th>California</th>\n",
              "      <td>25439</td>\n",
              "      <td>20279</td>\n",
              "      <td>27999</td>\n",
              "      <td>65707</td>\n",
              "      <td>229479</td>\n",
              "      <td>100603</td>\n",
              "      <td>109363</td>\n",
              "      <td>41864</td>\n",
              "      <td>134655</td>\n",
              "      <td>406685</td>\n",
              "      <td>236025</td>\n",
              "      <td>133118</td>\n",
              "      <td>71649</td>\n",
              "      <td>42069</td>\n",
              "      <td>34009</td>\n",
              "      <td>29132</td>\n",
              "      <td>198300</td>\n",
              "      <td>-1</td>\n",
              "    </tr>\n",
              "    <tr>\n",
              "      <th>Florida</th>\n",
              "      <td>5458</td>\n",
              "      <td>1278</td>\n",
              "      <td>16011</td>\n",
              "      <td>35659</td>\n",
              "      <td>38284</td>\n",
              "      <td>47080</td>\n",
              "      <td>53163</td>\n",
              "      <td>21177</td>\n",
              "      <td>29121</td>\n",
              "      <td>161861</td>\n",
              "      <td>85390</td>\n",
              "      <td>67777</td>\n",
              "      <td>41358</td>\n",
              "      <td>19643</td>\n",
              "      <td>14272</td>\n",
              "      <td>10225</td>\n",
              "      <td>73926</td>\n",
              "      <td>-1</td>\n",
              "    </tr>\n",
              "    <tr>\n",
              "      <th>New York</th>\n",
              "      <td>1996</td>\n",
              "      <td>1035</td>\n",
              "      <td>18033</td>\n",
              "      <td>38050</td>\n",
              "      <td>70415</td>\n",
              "      <td>55710</td>\n",
              "      <td>55085</td>\n",
              "      <td>21153</td>\n",
              "      <td>99235</td>\n",
              "      <td>333404</td>\n",
              "      <td>143021</td>\n",
              "      <td>105701</td>\n",
              "      <td>42176</td>\n",
              "      <td>23629</td>\n",
              "      <td>16271</td>\n",
              "      <td>5966</td>\n",
              "      <td>120780</td>\n",
              "      <td>-1</td>\n",
              "    </tr>\n",
              "    <tr>\n",
              "      <th>Texas</th>\n",
              "      <td>5964</td>\n",
              "      <td>119695</td>\n",
              "      <td>24497</td>\n",
              "      <td>61603</td>\n",
              "      <td>153204</td>\n",
              "      <td>80764</td>\n",
              "      <td>68416</td>\n",
              "      <td>39577</td>\n",
              "      <td>41877</td>\n",
              "      <td>167303</td>\n",
              "      <td>122764</td>\n",
              "      <td>77579</td>\n",
              "      <td>37452</td>\n",
              "      <td>26077</td>\n",
              "      <td>21783</td>\n",
              "      <td>17007</td>\n",
              "      <td>101670</td>\n",
              "      <td>-1</td>\n",
              "    </tr>\n",
              "  </tbody>\n",
              "</table>\n",
              "</div>"
            ],
            "text/plain": [
              "            Agriculture  Mining  ...  State.1  dbscan_group\n",
              "State                            ...                       \n",
              "California        25439   20279  ...   198300            -1\n",
              "Florida            5458    1278  ...    73926            -1\n",
              "New York           1996    1035  ...   120780            -1\n",
              "Texas              5964  119695  ...   101670            -1\n",
              "\n",
              "[4 rows x 18 columns]"
            ]
          },
          "metadata": {
            "tags": []
          },
          "execution_count": 28
        }
      ]
    },
    {
      "cell_type": "markdown",
      "metadata": {
        "id": "KpHbiTttQzTQ",
        "colab_type": "text"
      },
      "source": [
        "#  Expectation - Maximization"
      ]
    },
    {
      "cell_type": "markdown",
      "metadata": {
        "id": "EZM6CoGerLy2",
        "colab_type": "text"
      },
      "source": [
        "En el clustering probabilístico se parte de un conjunto de un conjunto de observaciones o muestras\n",
        "las cuales son independientes e idénticamente distribuidas aleatoriamente. En este tipo de algoritmos\n",
        "se asume que la probabilidad de que dado un cluster 𝑆𝑖 el conjunto de muestras 𝑌 pertenezca a ella,\n",
        "tiene una forma paramétrica conocida, determinada por un conjunto de parámetros θ𝑖. Este conjunto\n",
        "de parámetros dependerá de la distribución elegida. El objetivo en cuestión es buscar aquellas\n",
        "distribuciones que mejor generan el conjunto de datos, y para ello se utiliza la información obtenida\n",
        "por las muestras observadas para estimar de forma óptima los parámetros θ𝑖 de cada distribución\n",
        "generadora."
      ]
    },
    {
      "cell_type": "markdown",
      "metadata": {
        "id": "0Fd5gZMJRXpd",
        "colab_type": "text"
      },
      "source": [
        "En este caso vamos a optar por utilizar una combinación de Gaussianas bajo el Gaussian Mixture Model.\n",
        "\n",
        "Con el fin de determinar el número de clusters (*k*) vamos a utilizar en este caso el [BIC](https://en.wikipedia.org/wiki/Bayesian_information_criterion) Bayesian Information Criterion. Este criterio compara el ajuste de diferentes modelos pero penalizando la complejidad del modelo (número de parámetros). El modelo con el menor valor de BIC es el que debe ser elegido"
      ]
    },
    {
      "cell_type": "code",
      "metadata": {
        "id": "f4jDfeX7RH0-",
        "colab_type": "code",
        "outputId": "09658426-8ea2-480f-f579-0dd8deac7f4b",
        "colab": {
          "base_uri": "https://localhost:8080/",
          "height": 34
        }
      },
      "source": [
        "from sklearn.mixture import GaussianMixture\n",
        "\n",
        "lowest_bic = numpy.infty\n",
        "bic = []\n",
        "best_cv = 'full'\n",
        "best_k = 3\n",
        "cv_types = ['spherical', 'tied', 'diag', 'full']\n",
        "n_components_range = range(1, 7)\n",
        "for cv_type in cv_types:\n",
        "    for k in range(1, 7):\n",
        "        gmm = GaussianMixture(n_components=k, covariance_type=cv_type, init_params='random')\n",
        "        gmm.fit(X_pca)\n",
        "        bic.append(gmm.bic(X_pca))\n",
        "        if bic[-1] < lowest_bic:\n",
        "            lowest_bic = bic[-1]\n",
        "            best_cv = cv_type\n",
        "            best_k = k\n",
        "            \n",
        "print (\"Mejor valor K\", best_k, \"Mejor tipo de Covarianza\", best_cv)"
      ],
      "execution_count": 0,
      "outputs": [
        {
          "output_type": "stream",
          "text": [
            "Mejor valor K 5 Mejor tipo de Covarianza full\n"
          ],
          "name": "stdout"
        }
      ]
    },
    {
      "cell_type": "markdown",
      "metadata": {
        "id": "PWS5UJH4SgfB",
        "colab_type": "text"
      },
      "source": [
        "Además de Calcular el mejor valor de K vamos además a graficar los resultados para obtener más información sobre el análisis realizado de acuerdo a lo recomendado en [enlace](https://scikit-learn.org/stable/auto_examples/mixture/plot_gmm_selection.html)"
      ]
    },
    {
      "cell_type": "code",
      "metadata": {
        "id": "3ba-JFo5SmkE",
        "colab_type": "code",
        "outputId": "f708ad07-86bc-4b3c-d961-48dcc70e61d2",
        "colab": {
          "base_uri": "https://localhost:8080/",
          "height": 249
        }
      },
      "source": [
        "# Plot the BIC scores\n",
        "color_iter = itertools.cycle(['navy', 'turquoise', 'cornflowerblue',\n",
        "                              'darkorange'])\n",
        "bars = []\n",
        "plt.figure(figsize=(18, 6))\n",
        "spl = plt.subplot(2, 1, 1)\n",
        "for i, (cv_type, color) in enumerate(zip(cv_types, color_iter)):\n",
        "    xpos = numpy.array(n_components_range) + .2 * (i - 2)\n",
        "    bars.append(plt.bar(xpos, bic[i * len(n_components_range):\n",
        "                                  (i + 1) * len(n_components_range)],\n",
        "                        width=.2, color=color))\n",
        "plt.xticks(n_components_range)\n",
        "plt.ylim([min(bic) * 1.01 - .01 * max(bic), max(bic)])\n",
        "plt.title('BIC score per model')\n",
        "xpos = numpy.mod(numpy.argmin(bic), len(n_components_range)) + .65 +\\\n",
        "    .2 * numpy.floor(numpy.argmin(bic) / len(n_components_range))\n",
        "plt.text(xpos, min(bic) * 0.97 + .03 * max(bic), '*', fontsize=14)\n",
        "spl.set_xlabel('Número de componentes')\n",
        "spl.legend([b[0] for b in bars], cv_types)"
      ],
      "execution_count": 0,
      "outputs": [
        {
          "output_type": "execute_result",
          "data": {
            "text/plain": [
              "<matplotlib.legend.Legend at 0x7f5fb71487f0>"
            ]
          },
          "metadata": {
            "tags": []
          },
          "execution_count": 57
        },
        {
          "output_type": "display_data",
          "data": {
            "image/png": "[encoded data removed]",
            "text/plain": [
              "<Figure size 1296x432 with 1 Axes>"
            ]
          },
          "metadata": {
            "tags": []
          }
        }
      ]
    },
    {
      "cell_type": "markdown",
      "metadata": {
        "id": "1rTFHCF3rO75",
        "colab_type": "text"
      },
      "source": [
        "Ejecutaremos el algoritmo con los mejores parámetros obtenidos"
      ]
    },
    {
      "cell_type": "code",
      "metadata": {
        "id": "XQdIFM2sVWWc",
        "colab_type": "code",
        "colab": {}
      },
      "source": [
        "EM = GaussianMixture(n_components=best_k, covariance_type=best_cv, init_params='random')\n",
        "EM.fit(X_pca)\n",
        "labels =  EM.predict(X_pca)\n",
        "n_clusters = best_k - (1 if -1 in labels else 0)"
      ],
      "execution_count": 0,
      "outputs": []
    },
    {
      "cell_type": "markdown",
      "metadata": {
        "id": "vUdGXMayVpTl",
        "colab_type": "text"
      },
      "source": [
        "Una vez ejecutado el módelo óptimo del algoritmo visualizamos los resultados utilizando la representación PCA"
      ]
    },
    {
      "cell_type": "code",
      "metadata": {
        "id": "kM5_q_OdVk4-",
        "colab_type": "code",
        "outputId": "cd001e08-b02a-4244-d060-2b77f9df8b59",
        "colab": {
          "base_uri": "https://localhost:8080/",
          "height": 274
        }
      },
      "source": [
        "#plotting orginal points with color related to label\n",
        "plt.scatter(X_pca[:,0], X_pca[:,1], c=labels,s=50)\n",
        "plt.grid()\n",
        "plt.show()"
      ],
      "execution_count": 0,
      "outputs": [
        {
          "output_type": "display_data",
          "data": {
            "image/png": "[encoded data removed]",
            "text/plain": [
              "<Figure size 432x288 with 1 Axes>"
            ]
          },
          "metadata": {
            "tags": []
          }
        }
      ]
    },
    {
      "cell_type": "markdown",
      "metadata": {
        "id": "pctpZKB9rS1H",
        "colab_type": "text"
      },
      "source": [
        "Y procedemos a la interpretación de los resultados"
      ]
    },
    {
      "cell_type": "code",
      "metadata": {
        "id": "im9cnHepmY3l",
        "colab_type": "code",
        "outputId": "cb52302e-a04c-4765-c7f7-6dba09e43778",
        "colab": {
          "base_uri": "https://localhost:8080/",
          "height": 305
        }
      },
      "source": [
        "df['em_group'] = labels\n",
        "\n",
        "\n",
        "res = df[['Finance', 'Mining', 'Manufacturing', 'em_group']].groupby(('em_group')).mean()\n",
        "res.plot(kind='bar', legend=True)"
      ],
      "execution_count": 0,
      "outputs": [
        {
          "output_type": "execute_result",
          "data": {
            "text/plain": [
              "<matplotlib.axes._subplots.AxesSubplot at 0x7f5fb70c9b70>"
            ]
          },
          "metadata": {
            "tags": []
          },
          "execution_count": 60
        },
        {
          "output_type": "display_data",
          "data": {
            "image/png": "[encoded data removed]",
            "text/plain": [
              "<Figure size 432x288 with 1 Axes>"
            ]
          },
          "metadata": {
            "tags": []
          }
        }
      ]
    }
  ]
}